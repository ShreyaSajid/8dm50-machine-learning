{
 "cells": [
  {
   "attachments": {},
   "cell_type": "markdown",
   "metadata": {},
   "source": [
    "# Preliminaries\n",
    "\n",
    "The `pandas` library allows the user several data structures for different data manipulation tasks:\n",
    "1. Data storage through its `Series` and `DataFrame` data structures.\n",
    "2. Data filtering using multiple methods from the package.\n",
    "3. Reading data from many different file formats such as `csv`, `txt`, `xlsx`, ...\n",
    "\n",
    "Below we provide a brief overview of the `pandas` functionalities needed for these exercises. The complete documentation can be found on the [`pandas` website](https://pandas.pydata.org/).\n",
    "\n",
    "## Pandas data structures\n",
    "\n",
    "### Series\n",
    "The Pandas Series data structure is similar to a one-dimensional array. It can store any type of data. The values are mutable but the size not.\n",
    "\n",
    "To create `Series`, we call the `pd.Series()` method and pass an array. A `Series` may also be created from a numpy array."
   ]
  },
  {
   "cell_type": "code",
   "execution_count": 1,
   "metadata": {},
   "outputs": [
    {
     "name": "stdout",
     "output_type": "stream",
     "text": [
      "0       1\n",
      "1      10\n",
      "2     100\n",
      "3    1000\n",
      "dtype: int64\n",
      "\n",
      "\n",
      "0          PSV\n",
      "1         Ajax\n",
      "2    Feyenoord\n",
      "3       Twente\n",
      "dtype: object\n"
     ]
    }
   ],
   "source": [
    "import pandas as pd\n",
    "import numpy as np\n",
    "\n",
    "first_series = pd.Series([1,10,100,1000])\n",
    "\n",
    "print(first_series)\n",
    "\n",
    "teams = np.array(['PSV','Ajax','Feyenoord','Twente'])\n",
    "second_series = pd.Series(teams)\n",
    "\n",
    "print('\\n')\n",
    "print(second_series)"
   ]
  },
  {
   "attachments": {},
   "cell_type": "markdown",
   "metadata": {},
   "source": [
    "### DataFrame\n",
    "One can think of a `DataFrame` as a table with rows and columns (2D structure). The columns can be of a different type (as opposed to `numpy` arrays) and the size of the `DataFrame` is mutable.\n",
    "\n",
    "To create `DataFrame`, we call the `pd.DataFrame()` method and we can create it from scratch or we can convert a numpy array or a list into a `DataFrame`."
   ]
  },
  {
   "cell_type": "code",
   "execution_count": 2,
   "metadata": {},
   "outputs": [
    {
     "name": "stdout",
     "output_type": "stream",
     "text": [
      "From scratch: \n",
      "    Position       Team  GF  GA  Points\n",
      "0         1        PSV  80  30      79\n",
      "1         2       Ajax  75  25      78\n",
      "2         3  Feyenoord  75  40      70\n",
      "3         4     Twente  70  60      66 \n",
      "\n",
      "From list: \n",
      "   Position       Team  GF  GA Points\n",
      "0        1        PSV  80  30     79\n",
      "1        2       Ajax  75  25     78\n",
      "2        3  Feyenoord  75  40     70\n",
      "3        4     Twente  70  60     66 \n",
      "\n",
      "From numpy array: \n",
      "   Position       Team  GF  GA Points\n",
      "0        1        PSV  80  30     79\n",
      "1        2       Ajax  75  25     78\n",
      "2        3  Feyenoord  75  40     70\n",
      "3        4     Twente  70  60     66 \n",
      "\n"
     ]
    }
   ],
   "source": [
    "# DataFrame from scratch\n",
    "first_dataframe = pd.DataFrame({\n",
    "    \"Position\": [1, 2, 3, 4],\n",
    "    \"Team\": ['PSV','Ajax','Feyenoord','Twente'],\n",
    "    \"GF\": [80, 75, 75, 70],\n",
    "    \"GA\": [30, 25, 40, 60],\n",
    "    \"Points\": [79, 78, 70, 66]\n",
    "})\n",
    "\n",
    "print(\"From scratch: \\n {} \\n\".format(first_dataframe))\n",
    "\n",
    "# DataFrme from a list\n",
    "data = [[1, 2, 3, 4], ['PSV','Ajax','Feyenoord','Twente'], \n",
    "        [80, 75, 75, 70], [30, 25, 40, 60], [79, 78, 70, 66]]\n",
    "columns = [\"Position\", \"Team\", \"GF\", \"GA\", \"Points\"]\n",
    "\n",
    "second_dataframe = pd.DataFrame(data, index=columns)\n",
    "\n",
    "print(\"From list: \\n {} \\n\".format(second_dataframe.T)) # the '.T' operator is explained later on\n",
    "\n",
    "# DataFrame from numpy array\n",
    "data = np.array([[1, 2, 3, 4], ['PSV','Ajax','Feyenoord','Twente'], \n",
    "                 [80, 75, 75, 70], [30, 25, 40, 60], [79, 78, 70, 66]])\n",
    "columns = [\"Position\", \"Team\", \"GF\", \"GA\", \"Points\"]\n",
    "\n",
    "third_dataframe = pd.DataFrame(data.T, columns=columns)\n",
    "\n",
    "print(\"From numpy array: \\n {} \\n\".format(third_dataframe))"
   ]
  },
  {
   "attachments": {},
   "cell_type": "markdown",
   "metadata": {},
   "source": [
    "### DataFrame attributes\n",
    "This section gives a quick overview of some of the `pandas.DataFrame` attributes such as `T`, `index`, `columns`, `iloc`, `loc`, `shape` and `values`."
   ]
  },
  {
   "cell_type": "code",
   "execution_count": 3,
   "metadata": {},
   "outputs": [
    {
     "name": "stdout",
     "output_type": "stream",
     "text": [
      "            0     1          2       3\n",
      "Position    1     2          3       4\n",
      "Team      PSV  Ajax  Feyenoord  Twente\n",
      "GF         80    75         75      70\n",
      "GA         30    25         40      60\n",
      "Points     79    78         70      66\n"
     ]
    }
   ],
   "source": [
    "# transpose the index and columns\n",
    "print(third_dataframe.T)"
   ]
  },
  {
   "cell_type": "code",
   "execution_count": 4,
   "metadata": {},
   "outputs": [
    {
     "name": "stdout",
     "output_type": "stream",
     "text": [
      "RangeIndex(start=0, stop=4, step=1)\n"
     ]
    }
   ],
   "source": [
    "# index makes reference to the row labels\n",
    "print(third_dataframe.index)"
   ]
  },
  {
   "cell_type": "code",
   "execution_count": 5,
   "metadata": {},
   "outputs": [
    {
     "name": "stdout",
     "output_type": "stream",
     "text": [
      "Index(['Position', 'Team', 'GF', 'GA', 'Points'], dtype='object')\n"
     ]
    }
   ],
   "source": [
    "# columns makes reference to the column labels\n",
    "print(third_dataframe.columns)"
   ]
  },
  {
   "cell_type": "code",
   "execution_count": 6,
   "metadata": {},
   "outputs": [
    {
     "name": "stdout",
     "output_type": "stream",
     "text": [
      "0          PSV\n",
      "1         Ajax\n",
      "2    Feyenoord\n",
      "3       Twente\n",
      "Name: Team, dtype: object\n"
     ]
    }
   ],
   "source": [
    "# iloc allows to access the index by integer-location (e.g. all team names, which are in the second columm)\n",
    "print(third_dataframe.iloc[:,1])"
   ]
  },
  {
   "cell_type": "code",
   "execution_count": 7,
   "metadata": {},
   "outputs": [
    {
     "name": "stdout",
     "output_type": "stream",
     "text": [
      "PSV\n"
     ]
    }
   ],
   "source": [
    "# loc allows to access the index by label(s)-location (e.g. all team names, which are in the \"Team\" columm)\n",
    "print(third_dataframe.loc[0, 'Team'])"
   ]
  },
  {
   "cell_type": "code",
   "execution_count": 8,
   "metadata": {},
   "outputs": [
    {
     "name": "stdout",
     "output_type": "stream",
     "text": [
      "(4, 5)\n"
     ]
    }
   ],
   "source": [
    "# shape returns a tuple with the DataFrame dimension, similar to numpy\n",
    "print(third_dataframe.shape)"
   ]
  },
  {
   "cell_type": "code",
   "execution_count": 9,
   "metadata": {},
   "outputs": [
    {
     "name": "stdout",
     "output_type": "stream",
     "text": [
      "[['1' 'PSV' '80' '30' '79']\n",
      " ['2' 'Ajax' '75' '25' '78']\n",
      " ['3' 'Feyenoord' '75' '40' '70']\n",
      " ['4' 'Twente' '70' '60' '66']]\n"
     ]
    }
   ],
   "source": [
    "# values return a Numpy representation of the DataFrame data\n",
    "print(third_dataframe.values)"
   ]
  },
  {
   "attachments": {},
   "cell_type": "markdown",
   "metadata": {},
   "source": [
    "### DataFrame methods\n",
    "This section gives a quick overview of some of the `pandas.DataFrame` methods such as `head`, `describe`, `concat`, `groupby`,`rename`, `filter`, `drop` and `isna`. To import data from CSV or MS Excel files, we can make use of `read_csv` and `read_excel`, respectively."
   ]
  },
  {
   "cell_type": "code",
   "execution_count": 10,
   "metadata": {},
   "outputs": [
    {
     "name": "stdout",
     "output_type": "stream",
     "text": [
      "  Position       Team  GF  GA Points\n",
      "0        1        PSV  80  30     79\n",
      "1        2       Ajax  75  25     78\n",
      "2        3  Feyenoord  75  40     70\n",
      "3        4     Twente  70  60     66\n"
     ]
    }
   ],
   "source": [
    "# print the first few rows in your dataset with head()\n",
    "print(third_dataframe.head()) # In this case, it is not very useful because we don't have thousands of rows"
   ]
  },
  {
   "cell_type": "code",
   "execution_count": 11,
   "metadata": {},
   "outputs": [
    {
     "name": "stdout",
     "output_type": "stream",
     "text": [
      "       Position Team  GF  GA Points\n",
      "count         4    4   4   4      4\n",
      "unique        4    4   3   4      4\n",
      "top           1  PSV  75  30     79\n",
      "freq          1    1   2   1      1\n"
     ]
    }
   ],
   "source": [
    "# get the summary statistics of the DataFrame with describe()\n",
    "print(third_dataframe.describe())"
   ]
  },
  {
   "cell_type": "code",
   "execution_count": 12,
   "metadata": {},
   "outputs": [
    {
     "name": "stdout",
     "output_type": "stream",
     "text": [
      "  Position  Team  GF  GA Points\n",
      "0        1   PSV  80  30     79\n",
      "1        2  Ajax  75  25     78\n",
      "\n",
      "\n",
      "  Position       Team  GF  GA Points\n",
      "2        3  Feyenoord  75  40     70\n",
      "3        4     Twente  70  60     66\n",
      "\n",
      "\n",
      "  Position       Team  GF  GA Points\n",
      "0        1        PSV  80  30     79\n",
      "1        2       Ajax  75  25     78\n",
      "2        3  Feyenoord  75  40     70\n",
      "3        4     Twente  70  60     66\n"
     ]
    }
   ],
   "source": [
    "# concatenate (join) DataFrame objects using concat()\n",
    "\n",
    "# first, we will split the above DataFrame in two different ones\n",
    "df_a = third_dataframe.loc[[0,1],:]\n",
    "df_b = third_dataframe.loc[[2,3],:]\n",
    "\n",
    "print(df_a)\n",
    "print('\\n')\n",
    "\n",
    "print(df_b)\n",
    "print('\\n')\n",
    "\n",
    "# now, we concatenate both datasets\n",
    "df = pd.concat([df_a, df_b])\n",
    "\n",
    "print(df)"
   ]
  },
  {
   "cell_type": "code",
   "execution_count": 13,
   "metadata": {},
   "outputs": [
    {
     "name": "stdout",
     "output_type": "stream",
     "text": [
      "  Position       Team  GF  GA Points\n",
      "1        2       Ajax  75  25     78\n",
      "2        3  Feyenoord  75  40     70\n"
     ]
    }
   ],
   "source": [
    "# group the data by certain variable via groupby()\n",
    "# here, we have grouped the data by goals for, which in this case is 75\n",
    "\n",
    "group = df.groupby('GF')\n",
    "\n",
    "print(group.get_group('75'))"
   ]
  },
  {
   "cell_type": "code",
   "execution_count": 14,
   "metadata": {},
   "outputs": [
    {
     "name": "stdout",
     "output_type": "stream",
     "text": [
      "  Pos       Club  GF  GA Points\n",
      "0   1        PSV  80  30     79\n",
      "1   2       Ajax  75  25     78\n",
      "2   3  Feyenoord  75  40     70\n",
      "3   4     Twente  70  60     66\n"
     ]
    }
   ],
   "source": [
    "# rename() helps you change the column or index names\n",
    "print(df.rename(columns={'Position':'Pos','Team':'Club'}))"
   ]
  },
  {
   "cell_type": "code",
   "execution_count": 15,
   "metadata": {},
   "outputs": [
    {
     "name": "stdout",
     "output_type": "stream",
     "text": [
      "        Team Points\n",
      "0        PSV     79\n",
      "1       Ajax     78\n",
      "2  Feyenoord     70\n",
      "3     Twente     66\n"
     ]
    }
   ],
   "source": [
    "# build a subset of rows or columns of your dataset according to labels via filter()\n",
    "# here, items refer to the variable names: 'Team' and 'Points'; to select columns, we specify axis=1\n",
    "print(df.filter(items=['Team', 'Points'], axis=1))"
   ]
  },
  {
   "cell_type": "code",
   "execution_count": 16,
   "metadata": {},
   "outputs": [
    {
     "name": "stdout",
     "output_type": "stream",
     "text": [
      "  Position       Team Points\n",
      "0        1        PSV     79\n",
      "1        2       Ajax     78\n",
      "2        3  Feyenoord     70\n",
      "3        4     Twente     66\n"
     ]
    }
   ],
   "source": [
    "# dropping some labels\n",
    "print(df.drop(columns=['GF', 'GA']))"
   ]
  },
  {
   "cell_type": "code",
   "execution_count": 17,
   "metadata": {},
   "outputs": [
    {
     "name": "stdout",
     "output_type": "stream",
     "text": [
      "   Position   Team     GF     GA  Points\n",
      "0     False  False  False  False   False\n",
      "1     False  False  False  False   False\n",
      "2     False  False  False  False   False\n",
      "3     False  False  False  False   False\n",
      "\n",
      "\n",
      "  Position       Team  GF  GA Points     W\n",
      "0        1        PSV  80  30     79   NaN\n",
      "1        2       Ajax  75  25     78  25.0\n",
      "2        3  Feyenoord  75  40     70  24.0\n",
      "3        4     Twente  70  60     66  19.0\n",
      "\n",
      "\n",
      "   Position   Team     GF     GA  Points      W\n",
      "0     False  False  False  False   False   True\n",
      "1     False  False  False  False   False  False\n",
      "2     False  False  False  False   False  False\n",
      "3     False  False  False  False   False  False\n"
     ]
    }
   ],
   "source": [
    "# search for NA (not available) entries in the DataFrame\n",
    "print(df.isna()) # No NA values\n",
    "print('\\n')\n",
    "\n",
    "# create a pandas Series with a NA value\n",
    "# the Series as W (winnin matches)\n",
    "tmp = pd.Series([np.nan, 25, 24, 19],  name=\"W\")\n",
    "\n",
    "# concatenate the Series with the DataFrame\n",
    "df = pd.concat([df,tmp], axis = 1)\n",
    "print(df)\n",
    "print('\\n')\n",
    "\n",
    "# again, check for NA entries\n",
    "print(df.isna())"
   ]
  },
  {
   "attachments": {},
   "cell_type": "markdown",
   "metadata": {},
   "source": [
    "## Dataset\n",
    "\n",
    "For this week exercises we will use a dataset from the Genomics of Drug Sensitivity in Cancer (GDSC) project (https://www.cancerrxgene.org/). In this study (['Iorio et al., Cell, 2016']()), 265 compounds were tested on 1001 cancer cell lines for which different types of -omics data (RNA expression, DNA methylation, Copy Number Alteration, DNA sequencing) are available. This is a valuable resource to look for biomarkers of drugs sensitivity in order to try to understand why cancer patients responds very differently to cancer drugs and find ways to assign the optimal treatment to each patient.\n",
    "\n",
    "For this exercise we will use a subset of the data, focusing the response to the drug YM155 (Sepantronium bromide) on four cancer types, for a total of 148 cancer cell lines.\n",
    "\n",
    "| ID          | Cancer type                      |\n",
    "|-------------|----------------------------------|\n",
    "|   COAD/READ | Colorectal adenocarcinoma        |\n",
    "|   NB        | Neuroblastoma                    |\n",
    "|   KIRC      | Kidney renal clear cell carcinoma|\n",
    "|   BRCA      | Breast carcinoma                 |\n",
    "\n",
    "We will use the RNA expression data (RMA normalised). Only genes with high variability across cell lines (variance > 5, resulting in 238 genes) have been kept.\n",
    "\n",
    "Drugs have been tested at different concentration, measuring each time the viability of the cells. Drug sensitivity is measured using the natural log of the fitted IC50 metric, which is defined as the half maximal inhibitory concentration. A lower IC50 corresponds to a more sensitive cell line because a lower amount of drug is sufficient to have a strong response, while a higher IC50 corresponds to a more resistant cell line because more drug is needed for killing the cells.\n",
    "\n",
    "Based on the IC50 metric, cells can be classified as sensitive or resistant. The classification is done by computing the $z$-score across all cell lines in the GDSC for each drug, and considering as sensitive the ones with $z$-score < 0 and resistant the ones with $z$-score > 0.\n",
    "\n",
    "The dataset is originally provided as 3 files ([original source](https://www.sciencedirect.com/science/article/pii/S0092867416307462?via%3Dihub)) :\n",
    "\n",
    "`GDSC_RNA_expression.csv`: gene expression matrix with the cell lines in the rows (148) and the genes in the columns (238).\n",
    "\n",
    "`GDSC_drug_response.csv`: vector with the cell lines response to the drug YM155 in terms of log(IC50) and as classification in sensitive or resistant.\n",
    "\n",
    "`GDSC_metadata.csv`: metadata for the 148 cell lines including name, COSMIC ID and tumor type (using the classification from ['The Cancer Genome Atlas TCGA'](https://www.cancer.gov/about-nci/organization/ccg/research/structural-genomics/tcga))\n",
    "\n",
    "For convenience, we provide the data already curated.\n",
    "\n",
    "`RNA_expression_curated.csv`: [148 cell lines , 238 genes]\n",
    "\n",
    "`drug_response_curated.csv`: [148 cell lines , YM155 drug]\n",
    "\n",
    "The curated data cam be read as `pandas` `DataFrame`s in the following way:"
   ]
  },
  {
   "cell_type": "code",
   "execution_count": 18,
   "metadata": {},
   "outputs": [],
   "source": [
    "import pandas as pd\n",
    "\n",
    "gene_expression = pd.read_csv(\"./data/RNA_expression_curated.csv\", sep=',', header=0, index_col=0)\n",
    "drug_response = pd.read_csv(\"./data/drug_response_curated.csv\", sep=',', header=0, index_col=0)"
   ]
  },
  {
   "attachments": {},
   "cell_type": "markdown",
   "metadata": {},
   "source": [
    "You can use the `DataFrame`s directly as inputs to the the `sklearn` models. The advantage over using `numpy` arrays is that the variable are annotated, i.e. each input and output has a name."
   ]
  },
  {
   "attachments": {},
   "cell_type": "markdown",
   "metadata": {},
   "source": [
    "## Tools\n",
    "The `scikit-learn` library provides the required tools for linear regression/classification and shrinkage, as well as for logistic regression."
   ]
  },
  {
   "cell_type": "code",
   "execution_count": 19,
   "metadata": {},
   "outputs": [],
   "source": [
    "from sklearn.linear_model import LinearRegression\n",
    "from sklearn.linear_model import Ridge\n",
    "from sklearn.linear_model import Lasso\n",
    "from sklearn.linear_model import LogisticRegression"
   ]
  },
  {
   "attachments": {},
   "cell_type": "markdown",
   "metadata": {},
   "source": [
    "Note that the notation used for the hyperparameters in the `scikit-learn` library is different from the one used in the lecture. More specifically, in the lecture $\\alpha$ is the tunable parameter to select the compromise between Ridge and Lasso. Whereas, `scikit-learn` library refers to `alpha` as the tunable parameter $\\lambda$. Please check the documentation for more details."
   ]
  },
  {
   "attachments": {},
   "cell_type": "markdown",
   "metadata": {},
   "source": [
    "# Exercises\n",
    "\n",
    "## Selection of the hyperparameter\n",
    "\n",
    "Implement cross-validation (using `sklearn.grid_search.GridSearchCV`) to select the `alpha` hyperparameter of `sklearn.linear_model.Lasso`. "
   ]
  },
  {
   "cell_type": "code",
   "execution_count": 20,
   "metadata": {},
   "outputs": [
    {
     "name": "stdout",
     "output_type": "stream",
     "text": [
      "Best parameter value:  {'alpha': 0.7000000000000001}\n",
      "Best score:  0.3154185777006199\n"
     ]
    }
   ],
   "source": [
    "from sklearn import linear_model\n",
    "from sklearn.model_selection import GridSearchCV\n",
    "\n",
    "# define the parameters to be tested\n",
    "parameters = {'alpha': np.linspace(0.1, 1.0, 10)}\n",
    "\n",
    "#define the model\n",
    "lasso = linear_model.Lasso(random_state= 40)\n",
    "\n",
    "# define the grid search and fit the model on the data\n",
    "clf = GridSearchCV(lasso, parameters, cv=5)\n",
    "clf.fit(gene_expression, drug_response)\n",
    "\n",
    "print(\"Best parameter value: \", clf.best_params_)\n",
    "print(\"Best score: \", clf.best_score_)"
   ]
  },
  {
   "attachments": {},
   "cell_type": "markdown",
   "metadata": {},
   "source": [
    "#### Explanation of the code"
   ]
  },
  {
   "attachments": {},
   "cell_type": "markdown",
   "metadata": {},
   "source": [
    "The code uses `GridSearchCV` to find the optimal value for the alpha hyperparameter of the Lasso model, generated by the `linear_model.Lasso` function. The model is trained and tested using the RNA expression data (`gene_expression`) as input features and the drug response (`drug_response`) as the target values.\n",
    "\n",
    "The hyperparameter `alpha` controls the regularization strength in the Lasso model, with higher values leading to sparser models by applying greater penalty to the coefficients. To select the best hyperparameter of `alpha`, `GridSearchCV`compares the default scoring method for Lasso, which is $R^2$ (coefficient of determination), for the different possible values.\n",
    "\n",
    "According to the results of `GridSearchCV`, out of the 10 hyperparameter values of alpha in the interval [0.1-1.0], $\\alpha$ = 0.7 resulted in the best $R^2$ score of 0.3154. The selected value of $\\alpha$ represents a balance between underfitting and overfitting for the given dataset. The $R^2$ score measures how well the model captures the variance in the response variable, with higher values being better."
   ]
  },
  {
   "attachments": {},
   "cell_type": "markdown",
   "metadata": {},
   "source": [
    "## Feature selection\n",
    "\n",
    "Look at the features selected using the hyperparameter which corresponds to the minimum cross-validation error.\n",
    "\n",
    "<p><font color='#770a0a'>Is the partition in training and validation sets playing a role in the selection of the hyperparameter? How will this affect the selection of the relevant features?</font></p>\n",
    "\n",
    "<p><font color='#770a0a'>Should the value of the intercept also be shrunk to zero with Lasso and Ridge regression? Motivate your answer.</font></p>\n"
   ]
  },
  {
   "cell_type": "code",
   "execution_count": 21,
   "metadata": {},
   "outputs": [
    {
     "name": "stdout",
     "output_type": "stream",
     "text": [
      "Selected features: Index(['GAL', 'ABCB1', 'TSPAN8', 'SELENBP1', 'TFF3', 'FABP1', 'FBP1',\n",
      "       'TACSTD2', 'AKR1C3'],\n",
      "      dtype='object')\n"
     ]
    }
   ],
   "source": [
    "# Show features that are selected using the hyperparameter which corresponds to the minimum cross-validation error\n",
    "\n",
    "# Retrieve best estimator from the gridsearch performed earlier\n",
    "best_lasso = clf.best_estimator_\n",
    "\n",
    "# Select the features where the coefficients are not 0\n",
    "selected_features = gene_expression.columns[best_lasso.coef_ != 0]\n",
    "\n",
    "# Display these features\n",
    "print(\"Selected features:\", selected_features)"
   ]
  },
  {
   "attachments": {},
   "cell_type": "markdown",
   "metadata": {},
   "source": [
    "#### Results & Discussion"
   ]
  },
  {
   "cell_type": "markdown",
   "metadata": {},
   "source": [
    "**Is the partition in training and validation sets playing a role in the selection of the hyperparameter?**\n",
    "\n",
    "Yes, the partitioning of the data into training and validation sets does influence the selection of the hyperparameter. In cross-validation, the model is evaluated on different subsets of the data. This helps ensure that the selected hyperparameter generalizes well and is not overly tuned to a specific subset of the data. Cross-validation provides an average estimate, mitigating the effect of potential outliers or anomalies in any one split. If the partitioning was not considered (for example by using a single train-test split), the selected $\\alpha$ might be overly specific to that single split and not generalizable. \n",
    "\n",
    "Since different training/validation partitions expose the model to different aspects of the data, the choice of $\\alpha$ might slightly vary across splits. This variance could influence the set of features selected by the Lasso model, especially if some features are borderline important. \n",
    "\n",
    "**How will this affect the selection of the relevant features?**\n",
    "\n",
    "The relevant features selected by the Lasso model depend on the value of $\\alpha$. If the $\\alpha$ is too large, too many features will be shrunk to zero, possibly eliminating important features. If it’s too small, too many features might be retained, leading to a less interpretable model. Cross-validation ensures that the chosen $\\alpha$ provides a good balance between feature selection (sparsity) and predictive accuracy. \n",
    "\n",
    "In real-world scenarios, it is crucial for feature selection to be consistent across different runs, especially if these features are used for further biological interpretation. A stable feature set means more confidence in their biological relevance, whereas inconsistency might indicate that some features are not as robust in predicting the response. Variability in partitioning can lead to slight differences in selected features, but the cross-validation procedure minimizes this risk by averaging over different splits.\n",
    "\n",
    "**Should the value of the intercept also be shrunk to zero with Lasso and Ridge regression?**\n",
    "\n",
    "No, the intercept should not be regularized in Lasso and Ridge regression. The intercept represents the baseline prediction (average outcome when all feature values are zero). Regularizing the intercept would mean penalizing the model’s baseline prediction, which is usually not desirable. Instead, the focus of regularization should be on the feature coefficients to control overfitting and improve generalization. Mathematically, the intercept is excluded from the penalty term in the objective function to ensure that it accurately represents the mean of the target variable without being unnecessarily shrunk."
   ]
  },
  {
   "cell_type": "markdown",
   "metadata": {},
   "source": [
    "## Bias-variance \n",
    "\n",
    "Show the effect of the regularization on the parameter estimates in terms of bias and variance. For this you can repeat the optimization 100 times using bootstrap and visualise the profile of the Lasso regression coefficient over a grid of the hyperparameter, optionally including the variability as error bars.\n",
    "\n",
    "<p><font color='#770a0a'>Based on the visual analysis of the plot, what are your observation on bias and variance in relation to model complexity? Motivate your answer.</font></p>"
   ]
  },
  {
   "cell_type": "code",
   "execution_count": 22,
   "metadata": {
    "scrolled": true
   },
   "outputs": [
    {
     "data": {
      "image/png": "[encoded data removed]",
      "text/plain": [
       "<Figure size 1000x600 with 1 Axes>"
      ]
     },
     "metadata": {},
     "output_type": "display_data"
    }
   ],
   "source": [
    "import sys\n",
    "sys.path.append('code/')\n",
    "\n",
    "from bias_variance_analysis import *\n",
    "\n",
    "# Define alpha values\n",
    "alpha_values = np.linspace(0.1, 1.0, 10)\n",
    "\n",
    "# Call the bias and variance analysis function\n",
    "bias_variance_analysis(gene_expression, drug_response, alpha_values, n_bootstrap=100, top_n_features=10)\n"
   ]
  },
  {
   "cell_type": "markdown",
   "metadata": {},
   "source": [
    "#### Explanation of Code"
   ]
  },
  {
   "cell_type": "markdown",
   "metadata": {},
   "source": [
    "In this task, we aimed to explore how regularization affects Lasso regression coefficients, focusing on the bias-variance trade-off. To do this, we used bootstrap resampling and fit the Lasso model multiple times for a range of regularization values $\\alpha$.\n",
    "\n",
    "We began by defining 100 bootstrap samples and a grid `alpha_values` (from 0.1 to 1.0) to represent different levels of regularization. Bootstrap resampling was used to create multiple subsets of the data with replacement, which helps to estimate the variability of the Lasso coefficients. For each bootstrap sample, we resampled the gene expression data and the drug response data, and for each resampled dataset, we fit the Lasso model for every `alpha`. We then stored the coefficients for all bootstrap iterations and `alpha` values in a 3D array.\n",
    "\n",
    "Once we gathered the coefficients, we calculated the mean and standard deviation of the coefficients across the bootstrap samples. The mean gave us the expected value of the coefficients for each feature, while the standard deviation helped us understand the variance in the coefficients due to the resampling process.\n",
    "\n",
    "Finally, we plotted the coefficients for these top 10 features as a function of `alpha`. For each feature, we plotted the mean coefficient values for different `alpha` values, along with error bars that represent the standard deviation of the coefficients across the bootstrap samples. The error bars gave us an indication of the variance in the coefficients due to the variability in the resampled datasets."
   ]
  },
  {
   "attachments": {},
   "cell_type": "markdown",
   "metadata": {},
   "source": [
    "#### Results & Discussion"
   ]
  },
  {
   "cell_type": "markdown",
   "metadata": {},
   "source": [
    "Based on the visual analysis of the plot, we can make several observations about bias and variance in relation to model complexity, which is controlled by the regularization parameter $\\alpha$\n",
    "\n",
    "##### **Observations on Bias:**\n",
    "1. **Low $\\alpha$ (left side of the plot, less regularization):**\n",
    "   - Many of the coefficients have relatively high values, which indicates that the model is capturing more complexity from the data.\n",
    "   - The larger coefficient values suggest that the model has **low bias** because it is able to fit the training data closely, allowing most features to have some impact.\n",
    "   \n",
    "2. **High $\\alpha$ (right side of the plot, more regularization):**\n",
    "   - As $\\alpha$ increases, the coefficients shrink, with many approaching zero. This suggests that the model is simplifying, leading to **higher bias**.\n",
    "   - The increased bias is a result of the Lasso regularization forcing some coefficients to reduce or even eliminate features that have smaller effects, thereby constraining the model’s flexibility.\n",
    "\n",
    "##### **Observations on Variance:**\n",
    "1. **Low $\\alpha$ (less regularization):**\n",
    "   - The **error bars** (which represent the standard deviation of the coefficients across bootstrap samples) are relatively large for some features in our plot.\n",
    "   - Larger error bars indicate that the model has **higher variance** in this regime, as it is more sensitive to variations in the data, leading to greater instability in the coefficients. This is typical in models with high complexity that tend to overfit to noise in the data.\n",
    "\n",
    "2. **High $\\alpha$ (more regularization):**\n",
    "   - As $\\alpha$ increases, the **error bars** shrink for most features, indicating **lower variance**. This suggests that the model becomes more stable as the regularization strength increases, making it less sensitive to the specific characteristics of each bootstrap sample.\n",
    "   - The reduced variance reflects the model’s tendency to avoid overfitting, as it simplifies and relies on fewer, more important features.\n",
    "\n",
    "##### **Trade-off Between Bias and Variance:**\n",
    "- **Low $\\alpha$**: The model is **complex**, leading to **low bias** (better fit to training data) but **high variance** (sensitivity to data fluctuations and noise).\n",
    "- **High $\\alpha$**: The model becomes **simpler**, resulting in **high bias** (greater restriction on feature importance) but **low variance** (more stability across different data samples).\n",
    "\n",
    "The goal is to minimize both the bias and variance to achieve the best predictive performance, which often involves finding the point where further increases in $\\alpha$ do not significantly improve stability but do start to degrade model accuracy.\n",
    "Practically, a smaller set of non-zero coefficients also contributes to better interpretability, especially when identifying which genes are the most predictive of drug response.\n",
    "\n",
    "##### **Conclusion:**\n",
    "The plot clearly shows the **bias-variance trade-off** in Lasso regression. Increasing the regularization strength $\\alpha$ introduces more bias but reduces variance, while decreasing $\\alpha$ reduces bias but increases variance. The optimal $\\alpha$ would be one that strikes a balance, preventing both underfitting (too high bias) and overfitting (too high variance).\n"
   ]
  },
  {
   "attachments": {},
   "cell_type": "markdown",
   "metadata": {},
   "source": [
    "## Logistic regression\n",
    "\n",
    "<p><font color='#770a0a'>Write the expression of the objective function for the penalized logistic regression with $L_1$ and $L_2$ regularisation (as in Elastic net).</font></p>"
   ]
  },
  {
   "cell_type": "markdown",
   "metadata": {},
   "source": [
    "The unregularized Log-likelihood function for logistic regression is the following:\n",
    "\n",
    "$$\\ell(\\beta) = \\sum_{i=1}^{N} \\left\\{ y_i \\beta^T x_i - \\log(1 + e^{\\beta^T x_i}) \\right\\}$$\n",
    "\n",
    "The goal is to maximize this log-likelihood with respect to $\\beta$. Regularization adds a penalty to this likelihood to prevent overfitting.\n",
    "\n",
    "The Lasso penalty adds the $\\ell_1$-norm of the coefficients vector $\\beta$ (sum of the absolute values) to the negative log-likelihood:\n",
    "\n",
    "$$\\mathcal{L}(\\beta) = -\\ell(\\beta) + \\lambda \\sum_{j=1}^{p} |\\beta_j|$$\n",
    "\n",
    "\n",
    "This results in the following objective function to minimize:\n",
    "\n",
    "$$\\mathcal{L}(\\beta) = -\\sum_{i=1}^{N} \\left\\{ y_i \\left(\\beta_0+ \\beta^T x_i \\right) - \\log(1 + e^{\\left(\\beta_0+ \\beta^T x_i \\right)}) \\right\\} + \\lambda \\sum_{j=1}^{p} |\\beta_j|$$\n",
    "\n",
    "Alternatively, it can be seen as a maximization with the following objective function:\n",
    "\n",
    "$$\\mathcal{L}(\\beta) = \\sum_{i=1}^{N} \\left\\{ y_i \\left(\\beta_0+ \\beta^T x_i \\right) - \\log(1 + e^{\\left(\\beta_0+ \\beta^T x_i \\right)}) \\right\\} - \\lambda \\sum_{j=1}^{p} |\\beta_j|$$\n",
    "\n",
    "The ridge penalty adds the $\\ell_2$-norm of the coefficients vector $\\beta$ (sum of squares) to the negative log-likelihood. The objective function to maximize is:\n",
    "\n",
    "$$\\mathcal{L}(\\beta) = \\sum_{i=1}^{N} \\left\\{ y_i \\left(\\beta_0+ \\beta^T x_i \\right) - \\log(1 + e^{\\left(\\beta_0+ \\beta^T x_i \\right)}) \\right\\} - \\lambda \\sum_{j=1}^{p} \\beta_j^2$$\n",
    "\n",
    "\n",
    "The Elastic Net regularization is a combination of both Lasso (L1) and Ridge (L2) penalties. It aims to balance the benefits of both regularization methods: the feature selection ability of Lasso and the stability of Ridge. The Elastic Net penalty is controlled by two hyperparameters: $\\lambda_1$ and $\\lambda_2$, which determine the contribution of the L1 and L2 penalties, respectively.\n",
    "\n",
    "Substituting the log-likelihood expression from logistic regression, the complete objective function (for maximization) for Elastic Net regularized logistic regression becomes:\n",
    "\n",
    "$$\\mathcal{L}(\\beta) = \\sum_{i=1}^{N} \\left\\{ y_i \\left(\\beta_0+ \\beta^T x_i \\right) - \\log(1 + e^{\\left(\\beta_0+ \\beta^T x_i \\right)}) \\right\\} - \\lambda_1 \\sum_{j=1}^{p} |\\beta_j| - \\lambda_2 \\sum_{j=1}^{p} \\beta_j^2$$\n",
    "\n",
    "The expression for the Elastic Net regularization is often expressed using a single regularization parameter $\\lambda$ and a mixing parameter $\\alpha$, where $\\alpha \\in [0,1]$ controls the balance between L1 and L2 penalties. When $\\alpha = 1$, the regularization is purely Ridge; when $\\alpha= 0$, the regularization is purely Lasso; when $0\\lt\\alpha\\lt1$, the result is a blend of Lasso and Ridge penalties. The objective function to maximize is:\n",
    "\n",
    "$$\\mathcal{L}(\\beta) = \\sum_{i=1}^{N} \\left\\{ y_i \\left(\\beta_0+ \\beta^T x_i \\right) - \\log(1 + e^{\\left(\\beta_0+ \\beta^T x_i \\right)}) \\right\\} - \\lambda \\left(  \\sum_{j=1}^{p} \\left( \\alpha\\beta_j^2  + (1 - \\alpha)|\\beta_j| \\right) \\right) $$\n",
    "\n",
    "\n"
   ]
  }
 ],
 "metadata": {
  "kernelspec": {
   "display_name": "Python 3 (ipykernel)",
   "language": "python",
   "name": "python3"
  },
  "language_info": {
   "codemirror_mode": {
    "name": "ipython",
    "version": 3
   },
   "file_extension": ".py",
   "mimetype": "text/x-python",
   "name": "python",
   "nbconvert_exporter": "python",
   "pygments_lexer": "ipython3",
   "version": "3.10.9"
  }
 },
 "nbformat": 4,
 "nbformat_minor": 4
}
