{
 "cells": [
  {
   "attachments": {},
   "cell_type": "markdown",
   "metadata": {},
   "source": [
    "# Under- and overfitting, model selection\n",
    "\n",
    "## Preliminaries\n",
    "\n",
    "In the first set of exercises you had to implement the training and evaluation of the linear regression and $k$-NN methods from scratch in order to practice your `numpy` skills. From this set of exercises onward, you can use the implementations provided in `scikit-learn` or other higher-level libraries. We start this set of exercises by demonstrating some of the features of `scikit-learn`.\n",
    "\n",
    "For example, implementation of linear regression model fitting with an analytical solution for the parameters is provided by the class `sklearn.linar_model.LinearRegression`. You can train a linear regression model in the following way:"
   ]
  },
  {
   "cell_type": "code",
   "execution_count": 1,
   "metadata": {},
   "outputs": [
    {
     "data": {
      "text/html": [
       "<style>#sk-container-id-1 {\n",
       "  /* Definition of color scheme common for light and dark mode */\n",
       "  --sklearn-color-text: black;\n",
       "  --sklearn-color-line: gray;\n",
       "  /* Definition of color scheme for unfitted estimators */\n",
       "  --sklearn-color-unfitted-level-0: #fff5e6;\n",
       "  --sklearn-color-unfitted-level-1: #f6e4d2;\n",
       "  --sklearn-color-unfitted-level-2: #ffe0b3;\n",
       "  --sklearn-color-unfitted-level-3: chocolate;\n",
       "  /* Definition of color scheme for fitted estimators */\n",
       "  --sklearn-color-fitted-level-0: #f0f8ff;\n",
       "  --sklearn-color-fitted-level-1: #d4ebff;\n",
       "  --sklearn-color-fitted-level-2: #b3dbfd;\n",
       "  --sklearn-color-fitted-level-3: cornflowerblue;\n",
       "\n",
       "  /* Specific color for light theme */\n",
       "  --sklearn-color-text-on-default-background: var(--sg-text-color, var(--theme-code-foreground, var(--jp-content-font-color1, black)));\n",
       "  --sklearn-color-background: var(--sg-background-color, var(--theme-background, var(--jp-layout-color0, white)));\n",
       "  --sklearn-color-border-box: var(--sg-text-color, var(--theme-code-foreground, var(--jp-content-font-color1, black)));\n",
       "  --sklearn-color-icon: #696969;\n",
       "\n",
       "  @media (prefers-color-scheme: dark) {\n",
       "    /* Redefinition of color scheme for dark theme */\n",
       "    --sklearn-color-text-on-default-background: var(--sg-text-color, var(--theme-code-foreground, var(--jp-content-font-color1, white)));\n",
       "    --sklearn-color-background: var(--sg-background-color, var(--theme-background, var(--jp-layout-color0, #111)));\n",
       "    --sklearn-color-border-box: var(--sg-text-color, var(--theme-code-foreground, var(--jp-content-font-color1, white)));\n",
       "    --sklearn-color-icon: #878787;\n",
       "  }\n",
       "}\n",
       "\n",
       "#sk-container-id-1 {\n",
       "  color: var(--sklearn-color-text);\n",
       "}\n",
       "\n",
       "#sk-container-id-1 pre {\n",
       "  padding: 0;\n",
       "}\n",
       "\n",
       "#sk-container-id-1 input.sk-hidden--visually {\n",
       "  border: 0;\n",
       "  clip: rect(1px 1px 1px 1px);\n",
       "  clip: rect(1px, 1px, 1px, 1px);\n",
       "  height: 1px;\n",
       "  margin: -1px;\n",
       "  overflow: hidden;\n",
       "  padding: 0;\n",
       "  position: absolute;\n",
       "  width: 1px;\n",
       "}\n",
       "\n",
       "#sk-container-id-1 div.sk-dashed-wrapped {\n",
       "  border: 1px dashed var(--sklearn-color-line);\n",
       "  margin: 0 0.4em 0.5em 0.4em;\n",
       "  box-sizing: border-box;\n",
       "  padding-bottom: 0.4em;\n",
       "  background-color: var(--sklearn-color-background);\n",
       "}\n",
       "\n",
       "#sk-container-id-1 div.sk-container {\n",
       "  /* jupyter's `normalize.less` sets `[hidden] { display: none; }`\n",
       "     but bootstrap.min.css set `[hidden] { display: none !important; }`\n",
       "     so we also need the `!important` here to be able to override the\n",
       "     default hidden behavior on the sphinx rendered scikit-learn.org.\n",
       "     See: https://github.com/scikit-learn/scikit-learn/issues/21755 */\n",
       "  display: inline-block !important;\n",
       "  position: relative;\n",
       "}\n",
       "\n",
       "#sk-container-id-1 div.sk-text-repr-fallback {\n",
       "  display: none;\n",
       "}\n",
       "\n",
       "div.sk-parallel-item,\n",
       "div.sk-serial,\n",
       "div.sk-item {\n",
       "  /* draw centered vertical line to link estimators */\n",
       "  background-image: linear-gradient(var(--sklearn-color-text-on-default-background), var(--sklearn-color-text-on-default-background));\n",
       "  background-size: 2px 100%;\n",
       "  background-repeat: no-repeat;\n",
       "  background-position: center center;\n",
       "}\n",
       "\n",
       "/* Parallel-specific style estimator block */\n",
       "\n",
       "#sk-container-id-1 div.sk-parallel-item::after {\n",
       "  content: \"\";\n",
       "  width: 100%;\n",
       "  border-bottom: 2px solid var(--sklearn-color-text-on-default-background);\n",
       "  flex-grow: 1;\n",
       "}\n",
       "\n",
       "#sk-container-id-1 div.sk-parallel {\n",
       "  display: flex;\n",
       "  align-items: stretch;\n",
       "  justify-content: center;\n",
       "  background-color: var(--sklearn-color-background);\n",
       "  position: relative;\n",
       "}\n",
       "\n",
       "#sk-container-id-1 div.sk-parallel-item {\n",
       "  display: flex;\n",
       "  flex-direction: column;\n",
       "}\n",
       "\n",
       "#sk-container-id-1 div.sk-parallel-item:first-child::after {\n",
       "  align-self: flex-end;\n",
       "  width: 50%;\n",
       "}\n",
       "\n",
       "#sk-container-id-1 div.sk-parallel-item:last-child::after {\n",
       "  align-self: flex-start;\n",
       "  width: 50%;\n",
       "}\n",
       "\n",
       "#sk-container-id-1 div.sk-parallel-item:only-child::after {\n",
       "  width: 0;\n",
       "}\n",
       "\n",
       "/* Serial-specific style estimator block */\n",
       "\n",
       "#sk-container-id-1 div.sk-serial {\n",
       "  display: flex;\n",
       "  flex-direction: column;\n",
       "  align-items: center;\n",
       "  background-color: var(--sklearn-color-background);\n",
       "  padding-right: 1em;\n",
       "  padding-left: 1em;\n",
       "}\n",
       "\n",
       "\n",
       "/* Toggleable style: style used for estimator/Pipeline/ColumnTransformer box that is\n",
       "clickable and can be expanded/collapsed.\n",
       "- Pipeline and ColumnTransformer use this feature and define the default style\n",
       "- Estimators will overwrite some part of the style using the `sk-estimator` class\n",
       "*/\n",
       "\n",
       "/* Pipeline and ColumnTransformer style (default) */\n",
       "\n",
       "#sk-container-id-1 div.sk-toggleable {\n",
       "  /* Default theme specific background. It is overwritten whether we have a\n",
       "  specific estimator or a Pipeline/ColumnTransformer */\n",
       "  background-color: var(--sklearn-color-background);\n",
       "}\n",
       "\n",
       "/* Toggleable label */\n",
       "#sk-container-id-1 label.sk-toggleable__label {\n",
       "  cursor: pointer;\n",
       "  display: block;\n",
       "  width: 100%;\n",
       "  margin-bottom: 0;\n",
       "  padding: 0.5em;\n",
       "  box-sizing: border-box;\n",
       "  text-align: center;\n",
       "}\n",
       "\n",
       "#sk-container-id-1 label.sk-toggleable__label-arrow:before {\n",
       "  /* Arrow on the left of the label */\n",
       "  content: \"▸\";\n",
       "  float: left;\n",
       "  margin-right: 0.25em;\n",
       "  color: var(--sklearn-color-icon);\n",
       "}\n",
       "\n",
       "#sk-container-id-1 label.sk-toggleable__label-arrow:hover:before {\n",
       "  color: var(--sklearn-color-text);\n",
       "}\n",
       "\n",
       "/* Toggleable content - dropdown */\n",
       "\n",
       "#sk-container-id-1 div.sk-toggleable__content {\n",
       "  max-height: 0;\n",
       "  max-width: 0;\n",
       "  overflow: hidden;\n",
       "  text-align: left;\n",
       "  /* unfitted */\n",
       "  background-color: var(--sklearn-color-unfitted-level-0);\n",
       "}\n",
       "\n",
       "#sk-container-id-1 div.sk-toggleable__content.fitted {\n",
       "  /* fitted */\n",
       "  background-color: var(--sklearn-color-fitted-level-0);\n",
       "}\n",
       "\n",
       "#sk-container-id-1 div.sk-toggleable__content pre {\n",
       "  margin: 0.2em;\n",
       "  border-radius: 0.25em;\n",
       "  color: var(--sklearn-color-text);\n",
       "  /* unfitted */\n",
       "  background-color: var(--sklearn-color-unfitted-level-0);\n",
       "}\n",
       "\n",
       "#sk-container-id-1 div.sk-toggleable__content.fitted pre {\n",
       "  /* unfitted */\n",
       "  background-color: var(--sklearn-color-fitted-level-0);\n",
       "}\n",
       "\n",
       "#sk-container-id-1 input.sk-toggleable__control:checked~div.sk-toggleable__content {\n",
       "  /* Expand drop-down */\n",
       "  max-height: 200px;\n",
       "  max-width: 100%;\n",
       "  overflow: auto;\n",
       "}\n",
       "\n",
       "#sk-container-id-1 input.sk-toggleable__control:checked~label.sk-toggleable__label-arrow:before {\n",
       "  content: \"▾\";\n",
       "}\n",
       "\n",
       "/* Pipeline/ColumnTransformer-specific style */\n",
       "\n",
       "#sk-container-id-1 div.sk-label input.sk-toggleable__control:checked~label.sk-toggleable__label {\n",
       "  color: var(--sklearn-color-text);\n",
       "  background-color: var(--sklearn-color-unfitted-level-2);\n",
       "}\n",
       "\n",
       "#sk-container-id-1 div.sk-label.fitted input.sk-toggleable__control:checked~label.sk-toggleable__label {\n",
       "  background-color: var(--sklearn-color-fitted-level-2);\n",
       "}\n",
       "\n",
       "/* Estimator-specific style */\n",
       "\n",
       "/* Colorize estimator box */\n",
       "#sk-container-id-1 div.sk-estimator input.sk-toggleable__control:checked~label.sk-toggleable__label {\n",
       "  /* unfitted */\n",
       "  background-color: var(--sklearn-color-unfitted-level-2);\n",
       "}\n",
       "\n",
       "#sk-container-id-1 div.sk-estimator.fitted input.sk-toggleable__control:checked~label.sk-toggleable__label {\n",
       "  /* fitted */\n",
       "  background-color: var(--sklearn-color-fitted-level-2);\n",
       "}\n",
       "\n",
       "#sk-container-id-1 div.sk-label label.sk-toggleable__label,\n",
       "#sk-container-id-1 div.sk-label label {\n",
       "  /* The background is the default theme color */\n",
       "  color: var(--sklearn-color-text-on-default-background);\n",
       "}\n",
       "\n",
       "/* On hover, darken the color of the background */\n",
       "#sk-container-id-1 div.sk-label:hover label.sk-toggleable__label {\n",
       "  color: var(--sklearn-color-text);\n",
       "  background-color: var(--sklearn-color-unfitted-level-2);\n",
       "}\n",
       "\n",
       "/* Label box, darken color on hover, fitted */\n",
       "#sk-container-id-1 div.sk-label.fitted:hover label.sk-toggleable__label.fitted {\n",
       "  color: var(--sklearn-color-text);\n",
       "  background-color: var(--sklearn-color-fitted-level-2);\n",
       "}\n",
       "\n",
       "/* Estimator label */\n",
       "\n",
       "#sk-container-id-1 div.sk-label label {\n",
       "  font-family: monospace;\n",
       "  font-weight: bold;\n",
       "  display: inline-block;\n",
       "  line-height: 1.2em;\n",
       "}\n",
       "\n",
       "#sk-container-id-1 div.sk-label-container {\n",
       "  text-align: center;\n",
       "}\n",
       "\n",
       "/* Estimator-specific */\n",
       "#sk-container-id-1 div.sk-estimator {\n",
       "  font-family: monospace;\n",
       "  border: 1px dotted var(--sklearn-color-border-box);\n",
       "  border-radius: 0.25em;\n",
       "  box-sizing: border-box;\n",
       "  margin-bottom: 0.5em;\n",
       "  /* unfitted */\n",
       "  background-color: var(--sklearn-color-unfitted-level-0);\n",
       "}\n",
       "\n",
       "#sk-container-id-1 div.sk-estimator.fitted {\n",
       "  /* fitted */\n",
       "  background-color: var(--sklearn-color-fitted-level-0);\n",
       "}\n",
       "\n",
       "/* on hover */\n",
       "#sk-container-id-1 div.sk-estimator:hover {\n",
       "  /* unfitted */\n",
       "  background-color: var(--sklearn-color-unfitted-level-2);\n",
       "}\n",
       "\n",
       "#sk-container-id-1 div.sk-estimator.fitted:hover {\n",
       "  /* fitted */\n",
       "  background-color: var(--sklearn-color-fitted-level-2);\n",
       "}\n",
       "\n",
       "/* Specification for estimator info (e.g. \"i\" and \"?\") */\n",
       "\n",
       "/* Common style for \"i\" and \"?\" */\n",
       "\n",
       ".sk-estimator-doc-link,\n",
       "a:link.sk-estimator-doc-link,\n",
       "a:visited.sk-estimator-doc-link {\n",
       "  float: right;\n",
       "  font-size: smaller;\n",
       "  line-height: 1em;\n",
       "  font-family: monospace;\n",
       "  background-color: var(--sklearn-color-background);\n",
       "  border-radius: 1em;\n",
       "  height: 1em;\n",
       "  width: 1em;\n",
       "  text-decoration: none !important;\n",
       "  margin-left: 1ex;\n",
       "  /* unfitted */\n",
       "  border: var(--sklearn-color-unfitted-level-1) 1pt solid;\n",
       "  color: var(--sklearn-color-unfitted-level-1);\n",
       "}\n",
       "\n",
       ".sk-estimator-doc-link.fitted,\n",
       "a:link.sk-estimator-doc-link.fitted,\n",
       "a:visited.sk-estimator-doc-link.fitted {\n",
       "  /* fitted */\n",
       "  border: var(--sklearn-color-fitted-level-1) 1pt solid;\n",
       "  color: var(--sklearn-color-fitted-level-1);\n",
       "}\n",
       "\n",
       "/* On hover */\n",
       "div.sk-estimator:hover .sk-estimator-doc-link:hover,\n",
       ".sk-estimator-doc-link:hover,\n",
       "div.sk-label-container:hover .sk-estimator-doc-link:hover,\n",
       ".sk-estimator-doc-link:hover {\n",
       "  /* unfitted */\n",
       "  background-color: var(--sklearn-color-unfitted-level-3);\n",
       "  color: var(--sklearn-color-background);\n",
       "  text-decoration: none;\n",
       "}\n",
       "\n",
       "div.sk-estimator.fitted:hover .sk-estimator-doc-link.fitted:hover,\n",
       ".sk-estimator-doc-link.fitted:hover,\n",
       "div.sk-label-container:hover .sk-estimator-doc-link.fitted:hover,\n",
       ".sk-estimator-doc-link.fitted:hover {\n",
       "  /* fitted */\n",
       "  background-color: var(--sklearn-color-fitted-level-3);\n",
       "  color: var(--sklearn-color-background);\n",
       "  text-decoration: none;\n",
       "}\n",
       "\n",
       "/* Span, style for the box shown on hovering the info icon */\n",
       ".sk-estimator-doc-link span {\n",
       "  display: none;\n",
       "  z-index: 9999;\n",
       "  position: relative;\n",
       "  font-weight: normal;\n",
       "  right: .2ex;\n",
       "  padding: .5ex;\n",
       "  margin: .5ex;\n",
       "  width: min-content;\n",
       "  min-width: 20ex;\n",
       "  max-width: 50ex;\n",
       "  color: var(--sklearn-color-text);\n",
       "  box-shadow: 2pt 2pt 4pt #999;\n",
       "  /* unfitted */\n",
       "  background: var(--sklearn-color-unfitted-level-0);\n",
       "  border: .5pt solid var(--sklearn-color-unfitted-level-3);\n",
       "}\n",
       "\n",
       ".sk-estimator-doc-link.fitted span {\n",
       "  /* fitted */\n",
       "  background: var(--sklearn-color-fitted-level-0);\n",
       "  border: var(--sklearn-color-fitted-level-3);\n",
       "}\n",
       "\n",
       ".sk-estimator-doc-link:hover span {\n",
       "  display: block;\n",
       "}\n",
       "\n",
       "/* \"?\"-specific style due to the `<a>` HTML tag */\n",
       "\n",
       "#sk-container-id-1 a.estimator_doc_link {\n",
       "  float: right;\n",
       "  font-size: 1rem;\n",
       "  line-height: 1em;\n",
       "  font-family: monospace;\n",
       "  background-color: var(--sklearn-color-background);\n",
       "  border-radius: 1rem;\n",
       "  height: 1rem;\n",
       "  width: 1rem;\n",
       "  text-decoration: none;\n",
       "  /* unfitted */\n",
       "  color: var(--sklearn-color-unfitted-level-1);\n",
       "  border: var(--sklearn-color-unfitted-level-1) 1pt solid;\n",
       "}\n",
       "\n",
       "#sk-container-id-1 a.estimator_doc_link.fitted {\n",
       "  /* fitted */\n",
       "  border: var(--sklearn-color-fitted-level-1) 1pt solid;\n",
       "  color: var(--sklearn-color-fitted-level-1);\n",
       "}\n",
       "\n",
       "/* On hover */\n",
       "#sk-container-id-1 a.estimator_doc_link:hover {\n",
       "  /* unfitted */\n",
       "  background-color: var(--sklearn-color-unfitted-level-3);\n",
       "  color: var(--sklearn-color-background);\n",
       "  text-decoration: none;\n",
       "}\n",
       "\n",
       "#sk-container-id-1 a.estimator_doc_link.fitted:hover {\n",
       "  /* fitted */\n",
       "  background-color: var(--sklearn-color-fitted-level-3);\n",
       "}\n",
       "</style><div id=\"sk-container-id-1\" class=\"sk-top-container\"><div class=\"sk-text-repr-fallback\"><pre>LinearRegression()</pre><b>In a Jupyter environment, please rerun this cell to show the HTML representation or trust the notebook. <br />On GitHub, the HTML representation is unable to render, please try loading this page with nbviewer.org.</b></div><div class=\"sk-container\" hidden><div class=\"sk-item\"><div class=\"sk-estimator fitted sk-toggleable\"><input class=\"sk-toggleable__control sk-hidden--visually\" id=\"sk-estimator-id-1\" type=\"checkbox\" checked><label for=\"sk-estimator-id-1\" class=\"sk-toggleable__label fitted sk-toggleable__label-arrow fitted\">&nbsp;&nbsp;LinearRegression<a class=\"sk-estimator-doc-link fitted\" rel=\"noreferrer\" target=\"_blank\" href=\"https://scikit-learn.org/1.4/modules/generated/sklearn.linear_model.LinearRegression.html\">?<span>Documentation for LinearRegression</span></a><span class=\"sk-estimator-doc-link fitted\">i<span>Fitted</span></span></label><div class=\"sk-toggleable__content fitted\"><pre>LinearRegression()</pre></div> </div></div></div></div>"
      ],
      "text/plain": [
       "LinearRegression()"
      ]
     },
     "execution_count": 1,
     "metadata": {},
     "output_type": "execute_result"
    }
   ],
   "source": [
    "import numpy as np\n",
    "from sklearn import datasets, linear_model\n",
    "\n",
    "# load the diabetes dataset\n",
    "diabetes = datasets.load_diabetes()\n",
    "\n",
    "# use only one feature\n",
    "X = diabetes.data[:, np.newaxis, 2]\n",
    "y = diabetes.target\n",
    "\n",
    "# split the data into training/testing sets\n",
    "X_train = X[:-20]\n",
    "X_test = X[-20:]\n",
    "\n",
    "# split the targets into training/testing sets\n",
    "y_train = y[:-20]\n",
    "y_test = y[-20:]\n",
    "\n",
    "# create linear regression object\n",
    "model = linear_model.LinearRegression()\n",
    "\n",
    "# train the model using the training dataset\n",
    "model.fit(X_train, y_train)"
   ]
  },
  {
   "attachments": {},
   "cell_type": "markdown",
   "metadata": {},
   "source": [
    "Let's visualize the training dataset and the learned regression model."
   ]
  },
  {
   "cell_type": "code",
   "execution_count": 2,
   "metadata": {},
   "outputs": [
    {
     "data": {
      "image/png": "[encoded data removed]",
      "text/plain": [
       "<Figure size 432x288 with 1 Axes>"
      ]
     },
     "metadata": {
      "needs_background": "light"
     },
     "output_type": "display_data"
    }
   ],
   "source": [
    "%matplotlib inline\n",
    "import matplotlib.pyplot as plt\n",
    "\n",
    "fig = plt.figure()\n",
    "plt.plot(X_train, y_train, 'r.', markersize=12)\n",
    "X_edge = np.array([np.min(X_train, 0), np.max(X_train, 0)])\n",
    "plt.plot(X_edge, model.predict(X_edge), 'b-')\n",
    "plt.legend(('Data', 'Linear regression'), loc='lower right')\n",
    "plt.title('Linear regression')\n",
    "plt.xlabel('$x$')\n",
    "plt.ylabel('$y$')\n",
    "plt.show()"
   ]
  },
  {
   "attachments": {},
   "cell_type": "markdown",
   "metadata": {},
   "source": [
    "Once trained, the model can be used to make predictions on the test data:"
   ]
  },
  {
   "cell_type": "code",
   "execution_count": 3,
   "metadata": {},
   "outputs": [],
   "source": [
    "# Make predictions using the testing dataset\n",
    "prediction = model.predict(X_test)"
   ]
  },
  {
   "attachments": {},
   "cell_type": "markdown",
   "metadata": {},
   "source": [
    "The next step (not shown here) is to evaluate the performance of the trained model.\n",
    "\n",
    "Note that the `scikit-learn` interface works by first initializing an object from the class that implements the machine learning model (linear regression in this case) and then fitting the initialized model using the data in the training set. Finally, the trained (fitted) model can be used to make predictions on unseen data. In fact, all models implemented in this library follow the same *initialize-fit-predict* programming interface. For example, a $k$-NN classifier can be trained in the following way:"
   ]
  },
  {
   "cell_type": "code",
   "execution_count": 4,
   "metadata": {},
   "outputs": [],
   "source": [
    "from sklearn.model_selection import train_test_split\n",
    "from sklearn import datasets, neighbors\n",
    "\n",
    "breast_cancer = datasets.load_breast_cancer()\n",
    "diabetes = datasets.load_diabetes()\n",
    "\n",
    "X = breast_cancer.data\n",
    "y = breast_cancer.target\n",
    "\n",
    "# make use of the train_test_split() utility function instead\n",
    "# of manually dividing the data\n",
    "X_train, X_test, y_train, y_test = train_test_split(X, y, stratify=y, random_state=40)\n",
    "\n",
    "# initialize a 3-NN classifier\n",
    "model = neighbors.KNeighborsClassifier(n_neighbors=3)\n",
    "\n",
    "# train the model using the training dataset\n",
    "model.fit(X_train, y_train)\n",
    "\n",
    "# make predictions using the testing dataset\n",
    "prediction = model.predict(X_test)"
   ]
  },
  {
   "attachments": {},
   "cell_type": "markdown",
   "metadata": {},
   "source": [
    "Note that the features in the breast cancer dataset have different scales (some have on average very small absolute values, and some very large), which means that the distance metric used by $k$-NN will me dominated by the features with large values. You can use any of the number of feature transformation methods implemented in `scikit-learn` to scale the features. For example, you can use the `sklearn.preprocessing.StandardScaler` method to transform all features to a have a zero mean and unit variance:"
   ]
  },
  {
   "cell_type": "code",
   "execution_count": 5,
   "metadata": {},
   "outputs": [],
   "source": [
    "from sklearn.preprocessing import StandardScaler\n",
    "\n",
    "scaler = StandardScaler()\n",
    "scaler.fit(X_train)\n",
    "\n",
    "X_train_scaled = scaler.transform(X_train)"
   ]
  },
  {
   "attachments": {},
   "cell_type": "markdown",
   "metadata": {},
   "source": [
    "The scaler has its own parameters which are the means and standard deviations of the features estimated from the training set. If you train a model with the scaled features, you will have to remember to also apply the scaling transformation every time you make a prediction on new unseen and unscaled data. This is somewhat prone to error. One option for making the code more robust is to create a processing pipeline that includes the scaling and $k$-NN models in a sequence:"
   ]
  },
  {
   "cell_type": "code",
   "execution_count": 6,
   "metadata": {},
   "outputs": [],
   "source": [
    "from sklearn.pipeline import Pipeline\n",
    "\n",
    "knn = neighbors.KNeighborsClassifier(n_neighbors=3)\n",
    "\n",
    "model = Pipeline([\n",
    "                 (\"scaler\", scaler),\n",
    "                 (\"knn\", knn)\n",
    "                ])\n",
    "\n",
    "# train the model using the training dataset\n",
    "model.fit(X_train, y_train)\n",
    "\n",
    "# make predictions using the testing dataset\n",
    "prediction = model.predict(X_test)\n"
   ]
  },
  {
   "attachments": {},
   "cell_type": "markdown",
   "metadata": {},
   "source": [
    "If you are curious, more information about the design of the `scikit-learn` application programming interface (API) can be found [in this paper](https://arxiv.org/pdf/1309.0238.pdf). "
   ]
  },
  {
   "attachments": {},
   "cell_type": "markdown",
   "metadata": {},
   "source": [
    "## Exercises"
   ]
  },
  {
   "attachments": {},
   "cell_type": "markdown",
   "metadata": {},
   "source": [
    "#### Initialization of dataset variables"
   ]
  },
  {
   "cell_type": "code",
   "execution_count": 1,
   "metadata": {},
   "outputs": [],
   "source": [
    "from sklearn.model_selection import train_test_split\n",
    "\n",
    "from sklearn import datasets\n",
    "\n",
    "from sklearn.datasets import load_diabetes, load_breast_cancer\n",
    "\n",
    "breast_cancer = datasets.load_breast_cancer()\n",
    "\n",
    "# create train and test datasets for the breast cancer dataset\n",
    "X_bc = breast_cancer.data\n",
    "y_bc = breast_cancer.target\n",
    "\n",
    "#X_bc_train, X_bc_test, y_bc_train, y_bc_test = train_test_split(X, y, stratify=y, random_state=40)\n",
    "X_bc_train, X_bc_test, y_bc_train, y_bc_test = train_test_split(X_bc, y_bc, stratify=y_bc, random_state=40)\n",
    "\n",
    "# create train and test\n",
    "# datasets for the diabetes dataset\n",
    "diabetes = datasets.load_diabetes()\n",
    "X_diabetes = diabetes.data\n",
    "y_diabetes = diabetes.target\n",
    "\n",
    "X_diabetes_train, X_diabetes_test, y_diabetes_train, y_diabetes_test = train_test_split(X_diabetes, y_diabetes, random_state=40)"
   ]
  },
  {
   "attachments": {},
   "cell_type": "markdown",
   "metadata": {},
   "source": [
    "\n",
    "### Bias-variance decomposition\n",
    "\n",
    "Show that the mean squared error of the estimate of a parameter can be decomposed into an expression that includes both the bias and variance (Eq. 5.53-5.54 in \"Deep learning\" by Goodfellow et al.). "
   ]
  },
  {
   "attachments": {},
   "cell_type": "markdown",
   "metadata": {},
   "source": [
    "#### Answer"
   ]
  },
  {
   "attachments": {},
   "cell_type": "markdown",
   "metadata": {},
   "source": [
    "The mean square error (MSE) of an estimator $\\hat{\\theta}$, where $\\theta$ is an unknown parameter is defined as:\n",
    "\n",
    "$$\n",
    "\\text{MSE}(\\hat{\\theta}) = \\mathbb{E}_{\\theta}\\left[ \\left( \\hat{\\theta} - \\theta \\right)^2 \\right]\n",
    "$$\n",
    "\n",
    "The MSE measures the average squared difference between the estimator $\\hat{\\theta}$ and the parameter $\\theta$, a somewhat reasonable measure of performance for an estimator. \n",
    "\n",
    "The MSE can be written as the sum of the variance of the estimator and the squared bias of the estimator, providing a useful way to calculate the MSE and implying that in the case of unbiased estimators, the MSE and variance are equivalent. \n",
    "\n",
    "The expression that describes this relationship can be deduced as follows:\n",
    "\n",
    "$$\n",
    "\\text{MSE}(\\hat{\\theta}) = \\mathbb{E}_{\\theta}\\left[ \\left( \\hat{\\theta} - \\theta \\right)^2 \\right]\n",
    "$$\n",
    "\n",
    "$$\n",
    "= \\mathbb{E}_{\\theta}\\left[ \\left( \\hat{\\theta} - \\mathbb{E}_{\\theta}[\\hat{\\theta}] + \\mathbb{E}_{\\theta}[\\hat{\\theta}] - \\theta \\right)^2 \\right]\n",
    "$$\n",
    "\n",
    "$$\n",
    "= \\mathbb{E}_{\\theta}\\left[ \\left( \\hat{\\theta} - \\mathbb{E}_{\\theta}[\\hat{\\theta}] \\right)^2 + 2 \\left( \\hat{\\theta} - \\mathbb{E}_{\\theta}[\\hat{\\theta}] \\right) \\left( \\mathbb{E}_{\\theta}[\\hat{\\theta}] - \\theta \\right) + \\left( \\mathbb{E}_{\\theta}[\\hat{\\theta}] - \\theta \\right)^2 \\right]\n",
    "$$\n",
    "\n",
    "$$\n",
    "= \\mathbb{E}_{\\theta}\\left[ \\left( \\hat{\\theta} - \\mathbb{E}_{\\theta}[\\hat{\\theta}] \\right)^2 \\right] + \\mathbb{E}_{\\theta}\\left[ 2 \\left( \\hat{\\theta} - \\mathbb{E}_{\\theta}[\\hat{\\theta}] \\right) \\left( \\mathbb{E}_{\\theta}[\\hat{\\theta}] - \\theta \\right) \\right] + \\mathbb{E}_{\\theta}\\left[ \\left( \\mathbb{E}_{\\theta}[\\hat{\\theta}] - \\theta \\right)^2 \\right]\n",
    "$$\n",
    "\n",
    "$$\n",
    "= \\mathbb{E}_{\\theta}\\left[ \\left( \\hat{\\theta} - \\mathbb{E}_{\\theta}[\\hat{\\theta}] \\right)^2 \\right] + 2 \\mathbb{E}_{\\theta}\\left[ \\hat{\\theta} - \\mathbb{E}_{\\theta}[\\hat{\\theta}] \\right] \\left( \\mathbb{E}_{\\theta}[\\hat{\\theta}] - \\theta \\right) + \\left( \\mathbb{E}_{\\theta}[\\hat{\\theta}] - \\theta \\right)^2\n",
    "$$\n",
    "\n",
    "$$\n",
    "= \\mathbb{E}_{\\theta}\\left[ \\left( \\hat{\\theta} - \\mathbb{E}_{\\theta}[\\hat{\\theta}] \\right)^2 \\right] + \\left( \\mathbb{E}_{\\theta}[\\hat{\\theta}] - \\theta \\right)^2\n",
    "$$\n",
    "\n",
    "$$\n",
    "= \\text{Var}_{\\theta}(\\hat{\\theta}) + \\text{Bias}_{\\theta}^2(\\hat{\\theta}, \\theta)\n",
    "$$\n",
    "\n",
    "\n",
    "An alternative deduction to obtain this expression is using the following formula:\n",
    "$$ \n",
    "\\text{E}(X^2)=\\text{Var}(X)+(E(X))^2 \n",
    "$$\n",
    "By substituing $X$ with $ \\hat{\\theta}-\\theta $, we get:\n",
    "$$\n",
    "\\text{MSE}(\\hat{\\theta}) = \\mathbb{E}_{\\theta}\\left[ \\left( \\hat{\\theta} - \\theta \\right)^2 \\right]\n",
    "$$\n",
    "\n",
    "$$\n",
    "= \\text{Var}(\\hat{\\theta}-\\theta)+(\\mathbb{E}[\\hat{\\theta}-\\theta])^2\n",
    "$$\n",
    "\n",
    "$$\n",
    "= \\text{Var}(\\hat{\\theta})+\\text{Bias}^2(\\hat{\\theta},\\theta)\n",
    "$$"
   ]
  },
  {
   "attachments": {},
   "cell_type": "markdown",
   "metadata": {},
   "source": [
    "### Polynomial regression\n",
    "\n",
    "For this exercise we will be using generated data to better show the effects of the different polynomial orders.\n",
    "The data is created using the make_polynomial_regression function."
   ]
  },
  {
   "cell_type": "code",
   "execution_count": 2,
   "metadata": {},
   "outputs": [
    {
     "data": {
      "text/plain": [
       "[<matplotlib.lines.Line2D at 0x25b4da3dc40>]"
      ]
     },
     "execution_count": 2,
     "metadata": {},
     "output_type": "execute_result"
    },
    {
     "data": {
      "image/png": "[encoded data removed]",
      "text/plain": [
       "<Figure size 640x480 with 1 Axes>"
      ]
     },
     "metadata": {},
     "output_type": "display_data"
    }
   ],
   "source": [
    "import numpy as np\n",
    "%matplotlib inline\n",
    "import matplotlib.pyplot as plt\n",
    "def generate_dataset(n=100, degree=1, noise=1, factors=None):\n",
    "    # Generates a dataset by adding random noise to a randomly\n",
    "    # generated polynomial function.\n",
    "    \n",
    "    x = np.random.uniform(low=-1, high=1, size=n)\n",
    "    \n",
    "    factors = np.random.uniform(0, 10, degree+1)\n",
    "    \n",
    "    y = np.zeros(x.shape)\n",
    "    \n",
    "    for idx in range(degree+1):\n",
    "        y += factors[idx] * (x ** idx)\n",
    "\n",
    "    # add noise\n",
    "    y += np.random.normal(-noise, noise, n)\n",
    "    \n",
    "    return x, y\n",
    "\n",
    "# load generated data\n",
    "np.random.seed(0)\n",
    "\n",
    "X, y = generate_dataset(n=100, degree=4, noise=1.5)\n",
    "\n",
    "plt.plot(X, y, 'r.', markersize=12)"
   ]
  },
  {
   "attachments": {},
   "cell_type": "markdown",
   "metadata": {},
   "source": [
    "Implement polynomial regression using the `sklearn.preprocessing.PolynomialFeatures` transformation. Using the `sklearn.grid_search.GridSearchCV` class, perform a grid search of the polynomial order hyperparameter space with cross-validation and report the performance on an independent test set.\n",
    "\n",
    "Plot a learning curve that show the validation accuracy as a function of the polynomial order. "
   ]
  },
  {
   "attachments": {},
   "cell_type": "markdown",
   "metadata": {},
   "source": [
    "#### Answer"
   ]
  },
  {
   "cell_type": "code",
   "execution_count": 4,
   "metadata": {},
   "outputs": [],
   "source": [
    "import sys\n",
    "sys.path.append('code/')\n",
    "\n",
    "from polynomial_regression import polynomial_regression_experiment"
   ]
  },
  {
   "cell_type": "code",
   "execution_count": 6,
   "metadata": {},
   "outputs": [
    {
     "data": {
      "image/png": "[encoded data removed]",
      "text/plain": [
       "<Figure size 800x600 with 1 Axes>"
      ]
     },
     "metadata": {},
     "output_type": "display_data"
    },
    {
     "name": "stdout",
     "output_type": "stream",
     "text": [
      "Best polynomial degree: 3\n",
      "Validation MSE of best model: 3.0849098422951435\n",
      "Test MSE: 1.2042620771828232\n"
     ]
    }
   ],
   "source": [
    "\n",
    "# Define the range of degrees to test\n",
    "degrees = [1, 2, 3, 4, 5, 6, 7, 8, 9, 10]\n",
    "\n",
    "# Split the custom data into training and test data. Need to reshape X to a 2D array however to use PolynomialFeatures.\n",
    "X = X.reshape(-1, 1)\n",
    "X_train, X_test, y_train, y_test = train_test_split(X, y, random_state=40)\n",
    "\n",
    "\n",
    "# Call the function for the generated data\n",
    "polynomial_regression_experiment(X_train, y_train, X_test, y_test, degrees)"
   ]
  },
  {
   "attachments": {},
   "cell_type": "markdown",
   "metadata": {},
   "source": [
    "Question (cont.): Repeat this experiment, this time using the diabetes dataset instead of the generated data."
   ]
  },
  {
   "cell_type": "code",
   "execution_count": 10,
   "metadata": {},
   "outputs": [
    {
     "name": "stdout",
     "output_type": "stream",
     "text": [
      "(331,)\n",
      "(111,)\n",
      "(331, 10)\n",
      "(111, 10)\n"
     ]
    }
   ],
   "source": [
    "print(y_diabetes_train.shape)\n",
    "print(y_diabetes_test.shape)\n",
    "print(X_diabetes_train.shape)\n",
    "print(X_diabetes_test.shape)"
   ]
  },
  {
   "cell_type": "code",
   "execution_count": 7,
   "metadata": {},
   "outputs": [
    {
     "data": {
      "image/png": "[encoded data removed]",
      "text/plain": [
       "<Figure size 800x600 with 1 Axes>"
      ]
     },
     "metadata": {},
     "output_type": "display_data"
    },
    {
     "name": "stdout",
     "output_type": "stream",
     "text": [
      "Best polynomial degree: 1\n",
      "Validation MSE of best model: 2729.885739989992\n",
      "Test MSE: 4005.24323545033\n"
     ]
    }
   ],
   "source": [
    "\n",
    "# Define the range of degrees to test\n",
    "degrees = [1, 2, 3, 4, 5, 6, 7, 8, 9, 10]\n",
    "\n",
    "# Call the function for the diabetes dataset\n",
    "polynomial_regression_experiment(X_diabetes_train, y_diabetes_train, X_diabetes_test, y_diabetes_test, degrees)"
   ]
  },
  {
   "attachments": {},
   "cell_type": "markdown",
   "metadata": {},
   "source": [
    "\n",
    "Question (cont.): <p><font color='#770a0a'>Which models have a high bias, and which models have high variance? Motivate your answer.</font><p>\n",
    "    "
   ]
  },
  {
   "attachments": {},
   "cell_type": "markdown",
   "metadata": {},
   "source": [
    "#### Results & Discussion"
   ]
  },
  {
   "attachments": {},
   "cell_type": "markdown",
   "metadata": {},
   "source": [
    "In both exercises, the models are generated through a pipeline containing `PolynomialFeatures` and `LinearRegression` with standard scaler. In order to find the best parameters for the model, models with varying polynomial degrees [1-10] were tested with `GridSearchCV`, with 5-fold cross validation. The models were fit to the training set, and Mean Squared Error (MSE) score was calculated on both training and validation sets. These scores were then plotted in order to understand whether the model could be under/overfitting on the dataset."
   ]
  },
  {
   "attachments": {},
   "cell_type": "markdown",
   "metadata": {},
   "source": [
    "The first plot shows the performance of the polynomial model on a randomly generated dataset with 100 data points, with the x-axis denoting the polynomial degree of the model, and y-axis showing the recorded MSE score. It can be seen that the model is performing poorly when the polynomial degree is very low, as evident from the high MSE scores during training and validation. The model achieves the lowest validation MSE score with 3 polynomial degrees, and the lowest overall (training and validation combined) MSE score with 4 polynomial degrees. While the MSE score during training decreases consistently, the scores recorded in validation sets increase -indicating overfitting of the model. In terms of bias and variance, the model shows high variance with higher degrees of polynomials, as it cannot generalise well to the validation data. Additionally, the models with lower polynomial degrees cannot capture the complexity of the data distribution well enough, leading to underfitting of the model, and high bias.\n",
    "\n",
    "The second plot shows the performance of the polynomial model on the diabetes dataset. Compared to the model in the first exercise, the validation and training scores do not show a sign of underfitting at lower polynomial degrees. In fact, the best MSE is reached when the polynomial model has a degree of 1. However at the higher end of the polynomial degrees, the model seems to overfit to the training data, the validation loss steeply increasing as the model complexity increases. The models with higher polynomial orders exhibit low bias and high variance, as the model cannot seem to generalize well to the unseen test data and records high MSE error, while performing well on the train data.\n",
    "\n",
    "In conclusion, it can be said that on both datasets, the models with lower polynomial degrees perform best on the test set. When the chosen polynomial degree is too low, the model underfits the training data, and shows high bias. On the other hand, models with higher polynomial degrees overfit to the dataset, and lead to high variance. "
   ]
  },
  {
   "attachments": {},
   "cell_type": "markdown",
   "metadata": {},
   "source": [
    "### ROC curve analysis\n",
    "A common method to evaluate binary classifiers is the receiver operating characteristic (ROC) curve. Similar to the week one practicals, implement a $k$-NN classifier on the breast cancer dataset, however, his time use the $k$-NN pipeline from the preliminary. Train the model for different values of $k$ and evaluate their respective performance with an ROC curve, use the `sklearn.metrics.roc_curve` function."
   ]
  },
  {
   "attachments": {},
   "cell_type": "markdown",
   "metadata": {},
   "source": [
    "#### Answer"
   ]
  },
  {
   "attachments": {},
   "cell_type": "markdown",
   "metadata": {},
   "source": [
    "For k-NN, the predicted class can be treated as a probability by calculating the proportion of neighbors belonging to each class. By varying the threshold for classifying a sample as positive, different confusion matrices can be generated, resulting in varying True Positive Rate (TPR) and False Positive Rate (FPR) values, which can then be used to generate a ROC curve.\n",
    "\n",
    "The ROC curve plots the TPR against the FPR as the threshold changes. TPR, also known as sensitivity, can be calculated as: \n",
    "$$\\text{TPR} = \\frac{\\text{TP}}{\\text{TP} + \\text{FN}}$$\n",
    "\n",
    "In our dataset, the true positives are the samples correctly classified as malignant, while the false negatives are the malignant samples incorrectly classified as benign. Thus, TPR indicates the proportion of malignant samples correctly classified.\n",
    "FPR can also be viewed as $1 - \\text{Specificity}$ and is calculated as:\n",
    "$$\\text{FPR} = \\frac{\\text{FP}}{\\text{FP} + \\text{TN}}$$\n",
    "\n",
    "In our dataset, false positives are benign samples incorrectly classified as malignant, and true negatives are benign samples correctly classified. Hence, FPR shows the proportion of benign samples that are incorrectly classified.\n",
    "\n",
    "Depending on the clinical context, we might prefer different trade-offs. For example, we might choose a threshold that maximizes sensitivity (even if it increases FPR) to ensure that no malignant cases are missed. Conversely, in other scenarios, balancing sensitivity with specificity (i.e., $1- \\text{FPR}$) might be preferred to reduce false positives.\n",
    "\n",
    "The pipeline, incorporating scaling and the $k$-NN model as described in the preliminaries, was utilized as the estimator for `GridSearchCV` to develop the model. A 10-fold cross-validation was conducted with a fixed random state to ensure reproducibility. Although manually iterating through different values of $k$\n",
    "without using `GridSearchCV` is feasible, this approach was selected to produce a more robust and adaptable code that can be applied to other analyses.\n",
    "\n",
    "An ROC curve was generated for each value of $k$, with the corresponding False Positive Rate (FPR), True Positive Rate (TPR), and thresholds reported.\n",
    "\n",
    "Additionally, to evaluate the overall performance of the classifiers, we can calculate the area under the ROC curve (AUC). An AUC of 1.0 indicates a perfect classifier, while an AUC of 0.5 suggests that the classifier performs no better than random chance and has no ability to distinguish between positive and negative classes. In GridSearchCV, the scoring was set to 'roc_auc' for this analysis."
   ]
  },
  {
   "cell_type": "code",
   "execution_count": 6,
   "metadata": {},
   "outputs": [
    {
     "name": "stdout",
     "output_type": "stream",
     "text": [
      "   mean_fit_time  std_fit_time  mean_score_time  std_score_time  \\\n",
      "0       0.002301      0.000640         0.042171        0.105676   \n",
      "1       0.001500      0.000500         0.006653        0.000449   \n",
      "2       0.001800      0.000400         0.006014        0.000043   \n",
      "3       0.001901      0.000539         0.006451        0.000570   \n",
      "4       0.001759      0.000692         0.006024        0.000728   \n",
      "5       0.001801      0.000400         0.007281        0.003518   \n",
      "6       0.001803      0.000347         0.006024        0.000650   \n",
      "7       0.001954      0.000140         0.006577        0.000448   \n",
      "8       0.001998      0.000630         0.006240        0.000747   \n",
      "9       0.002103      0.000539         0.007801        0.000603   \n",
      "\n",
      "   param_knn__n_neighbors                    params  split0_test_score  \\\n",
      "0                       1   {'knn__n_neighbors': 1}           0.931713   \n",
      "1                       3   {'knn__n_neighbors': 3}           0.944444   \n",
      "2                       5   {'knn__n_neighbors': 5}           0.945602   \n",
      "3                       7   {'knn__n_neighbors': 7}           0.943287   \n",
      "4                       9   {'knn__n_neighbors': 9}           0.957176   \n",
      "5                      11  {'knn__n_neighbors': 11}           0.959491   \n",
      "6                      13  {'knn__n_neighbors': 13}           0.959491   \n",
      "7                      15  {'knn__n_neighbors': 15}           0.986111   \n",
      "8                      17  {'knn__n_neighbors': 17}           0.987269   \n",
      "9                      19  {'knn__n_neighbors': 19}           0.988426   \n",
      "\n",
      "   split1_test_score  split2_test_score  split3_test_score  split4_test_score  \\\n",
      "0           0.950231           0.918981           0.950231           0.906250   \n",
      "1           0.950231           0.944444           0.976852           0.934028   \n",
      "2           0.956019           0.990741           0.995370           0.967593   \n",
      "3           0.988426           0.998843           0.993056           0.964120   \n",
      "4           0.984954           0.998843           0.996528           0.966435   \n",
      "5           0.986111           1.000000           0.997685           0.962963   \n",
      "6           0.984954           1.000000           0.997685           0.961806   \n",
      "7           0.980324           1.000000           0.997685           0.959491   \n",
      "8           0.974537           0.996528           0.997685           0.959491   \n",
      "9           0.982639           0.996528           0.997685           0.959491   \n",
      "\n",
      "   split5_test_score  split6_test_score  split7_test_score  split8_test_score  \\\n",
      "0           0.968750           0.966667           0.961538           0.867788   \n",
      "1           0.968750           0.997531           0.997596           0.986779   \n",
      "2           0.998843           1.000000           0.993990           0.985577   \n",
      "3           0.998843           1.000000           0.991587           0.983173   \n",
      "4           0.996528           1.000000           0.997596           0.980769   \n",
      "5           0.997685           1.000000           0.997596           0.983173   \n",
      "6           0.998843           1.000000           0.998798           0.984375   \n",
      "7           1.000000           1.000000           1.000000           0.980769   \n",
      "8           1.000000           1.000000           1.000000           0.975962   \n",
      "9           1.000000           1.000000           1.000000           0.974760   \n",
      "\n",
      "   split9_test_score  mean_test_score  std_test_score  rank_test_score  \n",
      "0            0.96875         0.939090        0.031454               10  \n",
      "1            1.00000         0.970066        0.023959                9  \n",
      "2            1.00000         0.983373        0.018794                8  \n",
      "3            1.00000         0.986133        0.017663                7  \n",
      "4            1.00000         0.987883        0.014559                6  \n",
      "5            1.00000         0.988470        0.014751                5  \n",
      "6            1.00000         0.988595        0.015092                4  \n",
      "7            1.00000         0.990438        0.012969                1  \n",
      "8            1.00000         0.989147        0.013671                3  \n",
      "9            1.00000         0.989953        0.013120                2  \n"
     ]
    }
   ],
   "source": [
    "import sys\n",
    "sys.path.append('code/')\n",
    "\n",
    "from knn_roc import *\n",
    "#call the created function for the breast cancer dataset, with grid search for the number of neighbors\n",
    "# k between 1 and 20\n",
    "# cross-validation n_cv=10\n",
    "# set random state\n",
    "model_grid, cv_results = create_and_train_knn_pipeline(X_bc_train, y_bc_train, param_grid={'knn__n_neighbors':[i for i in range(1,20,2)]}, n_cv=10, random_state=40)\n",
    "print(cv_results)"
   ]
  },
  {
   "cell_type": "code",
   "execution_count": 7,
   "metadata": {},
   "outputs": [
    {
     "name": "stdout",
     "output_type": "stream",
     "text": [
      "n_neighbors=1\n",
      "   False Positive Rate (FPR)  True Positive Rate (TPR)  Thresholds\n",
      "0                   0.000000                  0.000000         inf\n",
      "1                   0.037736                  0.966667         1.0\n",
      "2                   1.000000                  1.000000         0.0\n",
      "------------------------------------------------------------\n",
      "n_neighbors=3\n",
      "   False Positive Rate (FPR)  True Positive Rate (TPR)  Thresholds\n",
      "0                   0.000000                  0.000000         inf\n",
      "1                   0.000000                  0.877778    1.000000\n",
      "2                   0.037736                  1.000000    0.666667\n",
      "3                   0.132075                  1.000000    0.333333\n",
      "4                   1.000000                  1.000000    0.000000\n",
      "------------------------------------------------------------\n",
      "n_neighbors=5\n",
      "   False Positive Rate (FPR)  True Positive Rate (TPR)  Thresholds\n",
      "0                   0.000000                  0.000000         inf\n",
      "1                   0.000000                  0.855556         1.0\n",
      "2                   0.018868                  0.966667         0.8\n",
      "3                   0.037736                  1.000000         0.6\n",
      "4                   0.056604                  1.000000         0.4\n",
      "5                   0.226415                  1.000000         0.2\n",
      "6                   1.000000                  1.000000         0.0\n",
      "------------------------------------------------------------\n",
      "n_neighbors=7\n",
      "   False Positive Rate (FPR)  True Positive Rate (TPR)  Thresholds\n",
      "0                   0.000000                  0.000000         inf\n",
      "1                   0.000000                  0.788889    1.000000\n",
      "2                   0.000000                  0.955556    0.857143\n",
      "3                   0.000000                  0.966667    0.714286\n",
      "4                   0.037736                  1.000000    0.571429\n",
      "5                   0.113208                  1.000000    0.285714\n",
      "6                   0.226415                  1.000000    0.142857\n",
      "7                   1.000000                  1.000000    0.000000\n",
      "------------------------------------------------------------\n",
      "n_neighbors=9\n",
      "   False Positive Rate (FPR)  True Positive Rate (TPR)  Thresholds\n",
      "0                   0.000000                  0.000000         inf\n",
      "1                   0.000000                  0.755556    1.000000\n",
      "2                   0.000000                  0.922222    0.888889\n",
      "3                   0.000000                  0.966667    0.777778\n",
      "4                   0.018868                  0.988889    0.666667\n",
      "5                   0.037736                  1.000000    0.444444\n",
      "6                   0.094340                  1.000000    0.333333\n",
      "7                   0.207547                  1.000000    0.222222\n",
      "8                   0.264151                  1.000000    0.111111\n",
      "9                   1.000000                  1.000000    0.000000\n",
      "------------------------------------------------------------\n",
      "n_neighbors=11\n",
      "    False Positive Rate (FPR)  True Positive Rate (TPR)  Thresholds\n",
      "0                    0.000000                  0.000000         inf\n",
      "1                    0.000000                  0.688889    1.000000\n",
      "2                    0.000000                  0.900000    0.909091\n",
      "3                    0.000000                  0.966667    0.818182\n",
      "4                    0.018868                  0.966667    0.727273\n",
      "5                    0.018868                  0.977778    0.636364\n",
      "6                    0.037736                  1.000000    0.545455\n",
      "7                    0.113208                  1.000000    0.272727\n",
      "8                    0.226415                  1.000000    0.181818\n",
      "9                    0.320755                  1.000000    0.090909\n",
      "10                   1.000000                  1.000000    0.000000\n",
      "------------------------------------------------------------\n",
      "n_neighbors=13\n",
      "    False Positive Rate (FPR)  True Positive Rate (TPR)  Thresholds\n",
      "0                    0.000000                  0.000000         inf\n",
      "1                    0.000000                  0.666667    1.000000\n",
      "2                    0.000000                  0.855556    0.923077\n",
      "3                    0.000000                  0.922222    0.846154\n",
      "4                    0.018868                  0.955556    0.769231\n",
      "5                    0.018868                  0.977778    0.692308\n",
      "6                    0.037736                  0.977778    0.615385\n",
      "7                    0.037736                  0.988889    0.538462\n",
      "8                    0.056604                  1.000000    0.461538\n",
      "9                    0.094340                  1.000000    0.307692\n",
      "10                   0.150943                  1.000000    0.230769\n",
      "11                   0.283019                  1.000000    0.153846\n",
      "12                   0.377358                  1.000000    0.076923\n",
      "13                   1.000000                  1.000000    0.000000\n",
      "------------------------------------------------------------\n",
      "n_neighbors=15\n",
      "    False Positive Rate (FPR)  True Positive Rate (TPR)  Thresholds\n",
      "0                    0.000000                  0.000000         inf\n",
      "1                    0.000000                  0.666667    1.000000\n",
      "2                    0.000000                  0.833333    0.933333\n",
      "3                    0.000000                  0.922222    0.866667\n",
      "4                    0.000000                  0.944444    0.800000\n",
      "5                    0.018868                  0.955556    0.733333\n",
      "6                    0.018868                  0.977778    0.666667\n",
      "7                    0.037736                  0.988889    0.600000\n",
      "8                    0.037736                  1.000000    0.533333\n",
      "9                    0.075472                  1.000000    0.333333\n",
      "10                   0.132075                  1.000000    0.266667\n",
      "11                   0.283019                  1.000000    0.133333\n",
      "12                   0.415094                  1.000000    0.066667\n",
      "13                   1.000000                  1.000000    0.000000\n",
      "------------------------------------------------------------\n",
      "n_neighbors=17\n",
      "    False Positive Rate (FPR)  True Positive Rate (TPR)  Thresholds\n",
      "0                    0.000000                  0.000000         inf\n",
      "1                    0.000000                  0.666667    1.000000\n",
      "2                    0.000000                  0.811111    0.941176\n",
      "3                    0.000000                  0.877778    0.882353\n",
      "4                    0.000000                  0.933333    0.823529\n",
      "5                    0.000000                  0.955556    0.764706\n",
      "6                    0.018868                  0.966667    0.705882\n",
      "7                    0.018868                  0.988889    0.647059\n",
      "8                    0.037736                  0.988889    0.588235\n",
      "9                    0.056604                  1.000000    0.529412\n",
      "10                   0.113208                  1.000000    0.294118\n",
      "11                   0.226415                  1.000000    0.176471\n",
      "12                   0.301887                  1.000000    0.117647\n",
      "13                   0.433962                  1.000000    0.058824\n",
      "14                   1.000000                  1.000000    0.000000\n",
      "------------------------------------------------------------\n",
      "n_neighbors=19\n",
      "    False Positive Rate (FPR)  True Positive Rate (TPR)  Thresholds\n",
      "0                    0.000000                  0.000000         inf\n",
      "1                    0.000000                  0.644444    1.000000\n",
      "2                    0.000000                  0.788889    0.947368\n",
      "3                    0.000000                  0.877778    0.894737\n",
      "4                    0.000000                  0.911111    0.842105\n",
      "5                    0.000000                  0.955556    0.789474\n",
      "6                    0.000000                  0.966667    0.736842\n",
      "7                    0.018868                  0.977778    0.684211\n",
      "8                    0.018868                  0.988889    0.631579\n",
      "9                    0.037736                  1.000000    0.578947\n",
      "10                   0.113208                  1.000000    0.315789\n",
      "11                   0.150943                  1.000000    0.263158\n",
      "12                   0.264151                  1.000000    0.157895\n",
      "13                   0.396226                  1.000000    0.105263\n",
      "14                   0.471698                  1.000000    0.052632\n",
      "15                   1.000000                  1.000000    0.000000\n",
      "------------------------------------------------------------\n"
     ]
    },
    {
     "data": {
      "image/png": "[encoded data removed]",
      "text/plain": [
       "<Figure size 800x800 with 1 Axes>"
      ]
     },
     "metadata": {},
     "output_type": "display_data"
    }
   ],
   "source": [
    "# Call the function to plot ROC curves and visualize thresholds\n",
    "plot_roc(model_grid, X_bc_train, y_bc_train, X_bc_test, y_bc_test)"
   ]
  },
  {
   "attachments": {},
   "cell_type": "markdown",
   "metadata": {},
   "source": [
    "#### Results & Discussion"
   ]
  },
  {
   "attachments": {},
   "cell_type": "markdown",
   "metadata": {},
   "source": [
    "The classifier achieved consistently high AUC values across all evaluated n_neighbors, with values reaching 1.00 for increasingly number of neighbors, suggesting an improvement of the model's discriminatory power. From the mean test scores, the classifier with n_neighbors = 15 achieved the highest score (0.990), while n_neighbors = 1 showed the lowest (0.939).\n",
    "\n",
    "For the same FPR, the model with n_neighbors = 1 shows a lower TPR compared to the other models, resulting in a reduced AUC, as previously observed. Increasing the number of neighbors stabilizes the performance, keeping the FPR low and flattening the ROC curves, indicating a balanced trade-off between high TPR and low FPR. Larger values of k generally improve the model's overall robustness by reducing overfitting. However, the benefits taper off after a certain point (around n_neighbors = 9), where the curves appear similar.\n",
    "\n",
    "There we can see that values of n_neighbors ≥ 3 led to robust and generalizable performance, with n_neighbors = 5 or higher providing an optimal balance."
   ]
  },
  {
   "attachments": {},
   "cell_type": "markdown",
   "metadata": {},
   "source": [
    "### $F_1$ score and Dice similarity coefficient\n",
    "\n",
    "The Dice similarity coefficient is a very popular evaluation measure for image segmentation applications. Assuming that $A$ is the ground truth segmentation of an object represented as a binary image, and $B$ is the binary output of an image segmentation method, the Dice similarity coefficient is computed as:\n",
    "\n",
    "$\\text{Dice}(A,B) = \\frac{2|A\\cap B|}{|A| + |B|}$\n",
    "\n",
    "where $|\\cdot|$ represents the cardinality of the objects (e.g. $|A|$ is the number of non-zero pixels in the ground truth segmentation).\n",
    "\n",
    "For example, the Dice similarity can be computed in the following way:"
   ]
  },
  {
   "cell_type": "code",
   "execution_count": 15,
   "metadata": {},
   "outputs": [
    {
     "name": "stdout",
     "output_type": "stream",
     "text": [
      "0.3402777777777778\n"
     ]
    },
    {
     "data": {
      "image/png": "[encoded data removed]",
      "text/plain": [
       "<Figure size 640x480 with 1 Axes>"
      ]
     },
     "metadata": {},
     "output_type": "display_data"
    }
   ],
   "source": [
    "# generate some test objecys\n",
    "A = np.zeros((32, 32))\n",
    "A[10:-10, 10:-10] = 1\n",
    "B = np.zeros((32, 32))\n",
    "B[5:-15, 5:-15] = 1\n",
    "\n",
    "dice = 2*np.sum(A*B)/(np.sum(A)+np.sum(B))\n",
    "\n",
    "# display the results\n",
    "plt.plot()\n",
    "plt.imshow(A)\n",
    "plt.imshow(B, alpha=0.7)\n",
    "\n",
    "print(dice)"
   ]
  },
  {
   "attachments": {},
   "cell_type": "markdown",
   "metadata": {},
   "source": [
    "<p><font color='#770a0a'>Show that the $F_1$ score, which is the harmonic mean of precision and recall, is equivalent to the Dice similarity coefficient</font><p>"
   ]
  },
  {
   "attachments": {},
   "cell_type": "markdown",
   "metadata": {},
   "source": [
    "#### Answer"
   ]
  },
  {
   "attachments": {},
   "cell_type": "markdown",
   "metadata": {},
   "source": [
    "#### Introduction"
   ]
  },
  {
   "attachments": {},
   "cell_type": "markdown",
   "metadata": {},
   "source": [
    "To show that the F1 score is equivalent to the Dice similarity coefficient, we first understand how both metrics are defined.\n",
    "\n",
    "#### 1. **F1 Score**:\n",
    "\n",
    "The F1 score is the harmonic mean of precision and recall. In binary classification (such as image segmentation), it is defined as:\n",
    "\n",
    "$$\n",
    "F1 = 2 \\cdot \\frac{\\text{Precision} \\cdot \\text{Recall}}{\\text{Precision} + \\text{Recall}}\n",
    "$$\n",
    "\n",
    "Where:\n",
    "- **Precision** is the proportion of correctly identified positive examples (true positives) out of all the positive predictions (true positives + false positives).\n",
    "\n",
    "$$\n",
    "\\text{Precision} = \\frac{\\text{TP}}{\\text{TP} + \\text{FP}}\n",
    "$$\n",
    "\n",
    "- **Recall** is the proportion of correctly identified positive examples (true positives) out of all the actual positives (true positives + false negatives).\n",
    "\n",
    "$$\n",
    "\\text{Recall} = \\frac{\\text{TP}}{\\text{TP} + \\text{FN}}\n",
    "$$\n",
    "\n",
    "#### 2. **Dice Similarity Coefficient**:\n",
    "\n",
    "The Dice similarity coefficient (DSC) is calculated as:\n",
    "\n",
    "$$\n",
    "DSC = \\frac{2 \\cdot |A \\cap B|}{|A| + |B|}\n",
    "$$\n",
    "\n",
    "Where:\n",
    "- $|A|$ is the cardinality (number of non-zero pixels) of the ground truth segmentation $A$.\n",
    "- $|B|$ is the cardinality (number of non-zero pixels) of the segmentation method output $B$.\n",
    "- $|A \\cap B|$ is the number of overlapping positive pixels between $A$ and $B$, which represents true positives.\n",
    "\n",
    "\n",
    "#### 3. **Establishing the Equivalence**:\n",
    "\n",
    "In the context of image segmentation:\n",
    "- **True Positives (TP)**: The number of pixels correctly predicted as belonging to the object (i.e., overlapping non-zero pixels in \\(A\\) and \\(B\\)).\n",
    "- **False Positives (FP)**: The number of pixels predicted as belonging to the object by \\(B\\), but not present in \\(A\\).\n",
    "- **False Negatives (FN)**: The number of pixels present in \\(A\\), but not predicted by \\(B\\).\n",
    "\n",
    "We now rewrite the F1 score using this terminology:\n",
    "\n",
    "$$\n",
    "F1 = 2 \\cdot \\frac{\\text{TP}}{2 \\cdot \\text{TP} + \\text{FP} + \\text{FN}}\n",
    "$$\n",
    "\n",
    "The Dice coefficient can also be written in a similar manner by recognizing that the intersection  $|A \\cap B|$ is equivalent to the true positives:\n",
    "\n",
    "$$\n",
    "DSC = \\frac{2 \\cdot \\text{TP}}{2 \\cdot \\text{TP} + \\text{FP} + \\text{FN}}\n",
    "$$\n",
    "\n",
    "Thus, we can see that:\n",
    "\n",
    "$$\n",
    "F1 = DSC\n",
    "$$\n",
    "\n",
    "Both the F1 score and the Dice similarity coefficient are mathematically equivalent, as they measure the same thing: the harmonic mean of precision and recall in the context of binary classification, or the overlap between the predicted and true segmentation in the case of image segmentation.\n"
   ]
  },
  {
   "attachments": {},
   "cell_type": "markdown",
   "metadata": {},
   "source": [
    "#### Example Analysis"
   ]
  },
  {
   "cell_type": "code",
   "execution_count": 16,
   "metadata": {},
   "outputs": [
    {
     "data": {
      "image/png": "[encoded data removed]",
      "text/plain": [
       "<Figure size 640x480 with 1 Axes>"
      ]
     },
     "metadata": {},
     "output_type": "display_data"
    },
    {
     "data": {
      "text/plain": [
       "(0.3402777777777778, 0.3402777777777778)"
      ]
     },
     "execution_count": 16,
     "metadata": {},
     "output_type": "execute_result"
    }
   ],
   "source": [
    "import numpy as np\n",
    "import matplotlib.pyplot as plt\n",
    "\n",
    "# generate some test objects\n",
    "A = np.zeros((32, 32))\n",
    "A[10:-10, 10:-10] = 1\n",
    "B = np.zeros((32, 32))\n",
    "B[5:-15, 5:-15] = 1\n",
    "\n",
    "# Dice similarity coefficient\n",
    "dice = 2 * np.sum(A * B) / (np.sum(A) + np.sum(B))\n",
    "\n",
    "# Precision and recall calculation\n",
    "precision = np.sum(A * B) / np.sum(B)\n",
    "recall = np.sum(A * B) / np.sum(A)\n",
    "\n",
    "# F1 score calculation\n",
    "f1_score = 2 * (precision * recall) / (precision + recall)\n",
    "\n",
    "# display the results\n",
    "plt.imshow(A, cmap='Blues')\n",
    "plt.imshow(B, cmap='Oranges', alpha=0.6)\n",
    "plt.title(f\"Dice: {dice:.3f}, F1 Score: {f1_score:.3f}\")\n",
    "plt.axis('off')\n",
    "plt.show()\n",
    "\n",
    "dice, f1_score\n"
   ]
  },
  {
   "attachments": {},
   "cell_type": "markdown",
   "metadata": {},
   "source": [
    "#### Explanation of Code\n",
    "\n",
    "We create two binary images, A and B, which simulate segmented regions of an image. The Dice coefficient measures how similar the two images are by comparing the overlap between them relative to their sizes. The F1 score combines precision and recall into one metric. Precision checks how many of the predicted positive pixels in B are correct, while recall checks how many of the ground truth pixels in A were captured by the prediction. \n",
    "\n",
    "The Dice similarity coefficient and the F1 score are both computed as approximately 0.340, demonstrating that the F1 score is indeed equivalent to the Dice similarity coefficient, as shown by their identical values."
   ]
  },
  {
   "cell_type": "code",
   "execution_count": null,
   "metadata": {},
   "outputs": [],
   "source": []
  }
 ],
 "metadata": {
  "kernelspec": {
   "display_name": "Python 3 (ipykernel)",
   "language": "python",
   "name": "python3"
  },
  "language_info": {
   "codemirror_mode": {
    "name": "ipython",
    "version": 3
   },
   "file_extension": ".py",
   "mimetype": "text/x-python",
   "name": "python",
   "nbconvert_exporter": "python",
   "pygments_lexer": "ipython3",
   "version": "3.9.18"
  }
 },
 "nbformat": 4,
 "nbformat_minor": 4
}
